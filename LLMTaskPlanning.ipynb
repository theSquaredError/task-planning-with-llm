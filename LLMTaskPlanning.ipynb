{
  "cells": [
    {
      "cell_type": "markdown",
      "metadata": {
        "id": "view-in-github",
        "colab_type": "text"
      },
      "source": [
        "<a href=\"https://colab.research.google.com/github/theSquaredError/task-planning-with-llm/blob/main/LLMTaskPlanning.ipynb\" target=\"_parent\"><img src=\"https://colab.research.google.com/assets/colab-badge.svg\" alt=\"Open In Colab\"/></a>"
      ]
    },
    {
      "cell_type": "code",
      "execution_count": null,
      "metadata": {
        "id": "OkIG9ed7KfAf"
      },
      "outputs": [],
      "source": [
        "pip install torch transformers trl accelerate datasets"
      ]
    },
    {
      "cell_type": "code",
      "execution_count": null,
      "metadata": {
        "id": "jZNo46Izjwnu"
      },
      "outputs": [],
      "source": [
        "!git clone https://github.com/ysymyth/ReAct.git"
      ]
    },
    {
      "cell_type": "code",
      "execution_count": 1,
      "metadata": {
        "id": "g0zLPgHBNqu1"
      },
      "outputs": [],
      "source": [
        "from IPython.display import HTML, display\n",
        "\n",
        "def set_css():\n",
        "  display(HTML('''\n",
        "  <style>\n",
        "    pre {\n",
        "        white-space: pre-wrap;\n",
        "    }\n",
        "  </style>\n",
        "  '''))\n",
        "get_ipython().events.register('pre_run_cell', set_css)"
      ]
    },
    {
      "cell_type": "code",
      "execution_count": 6,
      "metadata": {
        "colab": {
          "base_uri": "https://localhost:8080/",
          "height": 85
        },
        "id": "z3HBT4VAnRDO",
        "outputId": "30a392a6-a36c-4fb7-fb1e-6aaaae379199"
      },
      "outputs": [
        {
          "output_type": "display_data",
          "data": {
            "text/plain": [
              "<IPython.core.display.HTML object>"
            ],
            "text/html": [
              "\n",
              "  <style>\n",
              "    pre {\n",
              "        white-space: pre-wrap;\n",
              "    }\n",
              "  </style>\n",
              "  "
            ]
          },
          "metadata": {}
        },
        {
          "output_type": "stream",
          "name": "stdout",
          "text": [
            "To determine the square root of -1, I start by recalling that in the realm of real numbers, the square of any real number is always non-negative. Therefore, there is no real number that can be squared to yield -1.\n",
            "\n",
            "\n"
          ]
        }
      ],
      "source": [
        "from openai import OpenAI\n",
        "\n",
        "\n",
        "\n",
        "client = OpenAI(\n",
        "    base_url=\"https://api-inference.huggingface.co/v1/\",\n",
        "    api_key= api_key\n",
        ")\n",
        "\n",
        "def chat_completion(prompt, stop=[\"\\n\"]):\n",
        "    messages = [\n",
        "        {\n",
        "            \"role\": \"user\",\n",
        "            \"content\": prompt\n",
        "        }\n",
        "    ]\n",
        "    # model=\"google/gemma-2-2b-it\"\n",
        "    model = \"deepseek-ai/DeepSeek-R1-Distill-Qwen-1.5B\"\n",
        "    max_tokens=500\n",
        "    response = client.chat.completions.create(\n",
        "        model=model,\n",
        "        messages=messages,\n",
        "        max_tokens=max_tokens,\n",
        "        stream=False,\n",
        "        stop=stop\n",
        "    )\n",
        "\n",
        "    # Extract the text from the response\n",
        "\n",
        "    return response.choices[0].message.content\n",
        "\n",
        "# Example usage:\n",
        "prompt = \"What is the square root of -1?\"\n",
        "result = chat_completion(prompt)\n",
        "print(result)\n"
      ]
    },
    {
      "cell_type": "code",
      "execution_count": null,
      "metadata": {
        "id": "0JiA80qmj2aO"
      },
      "outputs": [],
      "source": [
        "import os\n",
        "import openai\n",
        "\n",
        "openai.api_key = os.environ[\"OPENAI_API_KEY\"]\n",
        "\n",
        "def llm(prompt, stop=[\"\\n\"]):\n",
        "    response = openai.Completion.create(\n",
        "      model=\"text-davinci-002\",\n",
        "      prompt=prompt,\n",
        "      temperature=0,\n",
        "      max_tokens=100,\n",
        "      top_p=1,\n",
        "      frequency_penalty=0.0,\n",
        "      presence_penalty=0.0,\n",
        "      stop=stop\n",
        "    )\n",
        "    return response[\"choices\"][0][\"text\"]"
      ]
    },
    {
      "cell_type": "code",
      "execution_count": null,
      "metadata": {
        "id": "_-ERVmvkfrUK"
      },
      "outputs": [],
      "source": [
        "!pip install alfworld"
      ]
    },
    {
      "cell_type": "code",
      "execution_count": null,
      "metadata": {
        "id": "VaDVjJcRkPU2"
      },
      "outputs": [],
      "source": [
        "import yaml\n",
        "import alfworld\n",
        "import alfworld.agents.environment\n",
        "with open('ReAct/base_config.yaml') as reader:\n",
        "    config = yaml.safe_load(reader)\n",
        "\n",
        "split = \"eval_out_of_distribution\"\n",
        "\n",
        "env = getattr(alfworld.agents.environment, config[\"env\"][\"type\"])(config, train_eval=split)\n",
        "env = env.init_env(batch_size=1)\n",
        "\n",
        "def process_ob(ob):\n",
        "    if ob.startswith('You arrive at loc '):\n",
        "        ob = ob[ob.find('. ')+2:]\n",
        "    return ob"
      ]
    },
    {
      "cell_type": "code",
      "execution_count": null,
      "metadata": {
        "colab": {
          "base_uri": "https://localhost:8080/",
          "height": 17
        },
        "id": "Tj4i7kQUfkXW",
        "outputId": "cbb2c2b9-67c9-4544-eb73-ee4875b6bb44"
      },
      "outputs": [
        {
          "data": {
            "text/html": [
              "\n",
              "  <style>\n",
              "    pre {\n",
              "        white-space: pre-wrap;\n",
              "    }\n",
              "  </style>\n",
              "  "
            ],
            "text/plain": [
              "<IPython.core.display.HTML object>"
            ]
          },
          "metadata": {},
          "output_type": "display_data"
        }
      ],
      "source": [
        "import sys\n",
        "\n",
        "def alfworld_run(prompt, to_print=True, ob=''):\n",
        "    init_prompt = prompt + ob + '\\n>'\n",
        "    prompt = ''\n",
        "    if to_print:\n",
        "        print(ob)\n",
        "        sys.stdout.flush()\n",
        "    for i in range(1, 50):\n",
        "        action = chat_completion(init_prompt + prompt, stop=['\\n']).strip()\n",
        "        observation, reward, done, info = env.step([action])\n",
        "        observation, reward, done = process_ob(observation[0]), info['won'][0], done[0]\n",
        "        if action.startswith('think:'):\n",
        "            observation = 'OK.'\n",
        "        if to_print:\n",
        "            print(f'Act {i}: {action}\\nObs {i}: {observation}')\n",
        "            sys.stdout.flush()\n",
        "        prompt += f' {action}\\n{observation}\\n>'\n",
        "        if done:\n",
        "            return reward\n",
        "    return 0"
      ]
    },
    {
      "cell_type": "code",
      "execution_count": null,
      "metadata": {
        "colab": {
          "background_save": true,
          "base_uri": "https://localhost:8080/",
          "height": 486
        },
        "collapsed": true,
        "id": "FreJElpu_saY",
        "outputId": "da0f77f8-c609-4404-c9a1-ffc72a34133d"
      },
      "outputs": [
        {
          "data": {
            "text/html": [
              "\n",
              "  <style>\n",
              "    pre {\n",
              "        white-space: pre-wrap;\n",
              "    }\n",
              "  </style>\n",
              "  "
            ],
            "text/plain": [
              "<IPython.core.display.HTML object>"
            ]
          },
          "metadata": {},
          "output_type": "display_data"
        },
        {
          "name": "stdout",
          "output_type": "stream",
          "text": [
            "\u001b[2K     \u001b[90m━━━━━━━━━━━━━━━━━━━━━━━━━━━━━━━━━━━━━━━━\u001b[0m \u001b[32m1.4/1.4 MB\u001b[0m \u001b[31m17.0 MB/s\u001b[0m eta \u001b[36m0:00:00\u001b[0m\n",
            "\u001b[?25h  Preparing metadata (setup.py) ... \u001b[?25l\u001b[?25hdone\n",
            "\u001b[2K     \u001b[90m━━━━━━━━━━━━━━━━━━━━━━━━━━━━━━━━━━━━━━━━\u001b[0m \u001b[32m1.5/1.5 MB\u001b[0m \u001b[31m56.5 MB/s\u001b[0m eta \u001b[36m0:00:00\u001b[0m\n",
            "\u001b[?25h  Preparing metadata (setup.py) ... \u001b[?25l\u001b[?25hdone\n",
            "\u001b[2K     \u001b[90m━━━━━━━━━━━━━━━━━━━━━━━━━━━━━━━━━━━━━━━━\u001b[0m \u001b[32m628.2/628.2 kB\u001b[0m \u001b[31m33.6 MB/s\u001b[0m eta \u001b[36m0:00:00\u001b[0m\n",
            "\u001b[?25h  Installing build dependencies ... \u001b[?25l\u001b[?25hdone\n",
            "  Getting requirements to build wheel ... \u001b[?25l\u001b[?25hdone\n",
            "  Preparing metadata (pyproject.toml) ... \u001b[?25l\u001b[?25hdone\n",
            "\u001b[2K   \u001b[90m━━━━━━━━━━━━━━━━━━━━━━━━━━━━━━━━━━━━━━━━\u001b[0m \u001b[32m289.2/289.2 kB\u001b[0m \u001b[31m22.0 MB/s\u001b[0m eta \u001b[36m0:00:00\u001b[0m\n",
            "\u001b[2K   \u001b[90m━━━━━━━━━━━━━━━━━━━━━━━━━━━━━━━━━━━━━━━━\u001b[0m \u001b[32m4.8/4.8 MB\u001b[0m \u001b[31m87.9 MB/s\u001b[0m eta \u001b[36m0:00:00\u001b[0m\n",
            "\u001b[2K   \u001b[90m━━━━━━━━━━━━━━━━━━━━━━━━━━━━━━━━━━━━━━━━\u001b[0m \u001b[32m101.5/101.5 kB\u001b[0m \u001b[31m8.1 MB/s\u001b[0m eta \u001b[36m0:00:00\u001b[0m\n",
            "\u001b[2K   \u001b[90m━━━━━━━━━━━━━━━━━━━━━━━━━━━━━━━━━━━━━━━━\u001b[0m \u001b[32m356.3/356.3 kB\u001b[0m \u001b[31m24.4 MB/s\u001b[0m eta \u001b[36m0:00:00\u001b[0m\n",
            "\u001b[2K   \u001b[90m━━━━━━━━━━━━━━━━━━━━━━━━━━━━━━━━━━━━━━━━\u001b[0m \u001b[32m363.4/363.4 MB\u001b[0m \u001b[31m4.2 MB/s\u001b[0m eta \u001b[36m0:00:00\u001b[0m\n",
            "\u001b[2K   \u001b[90m━━━━━━━━━━━━━━━━━━━━━━━━━━━━━━━━━━━━━━━━\u001b[0m \u001b[32m13.8/13.8 MB\u001b[0m \u001b[31m92.6 MB/s\u001b[0m eta \u001b[36m0:00:00\u001b[0m\n",
            "\u001b[2K   \u001b[90m━━━━━━━━━━━━━━━━━━━━━━━━━━━━━━━━━━━━━━━━\u001b[0m \u001b[32m24.6/24.6 MB\u001b[0m \u001b[31m66.8 MB/s\u001b[0m eta \u001b[36m0:00:00\u001b[0m\n",
            "\u001b[2K   \u001b[90m━━━━━━━━━━━━━━━━━━━━━━━━━━━━━━━━━━━━━━━━\u001b[0m \u001b[32m883.7/883.7 kB\u001b[0m \u001b[31m45.1 MB/s\u001b[0m eta \u001b[36m0:00:00\u001b[0m\n",
            "\u001b[2K   \u001b[90m━━━━━━━━━━━━━━━━━━━━━━━━━━━━━━━━━━━━━━━━\u001b[0m \u001b[32m664.8/664.8 MB\u001b[0m \u001b[31m860.9 kB/s\u001b[0m eta \u001b[36m0:00:00\u001b[0m\n",
            "\u001b[2K   \u001b[90m━━━━━━━━━━━━━━━━━━━━━━━━━━━━━━━━━━━━━━━━\u001b[0m \u001b[32m211.5/211.5 MB\u001b[0m \u001b[31m5.3 MB/s\u001b[0m eta \u001b[36m0:00:00\u001b[0m\n",
            "\u001b[2K   \u001b[90m━━━━━━━━━━━━━━━━━━━━━━━━━━━━━━━━━━━━━━━━\u001b[0m \u001b[32m56.3/56.3 MB\u001b[0m \u001b[31m10.9 MB/s\u001b[0m eta \u001b[36m0:00:00\u001b[0m\n",
            "\u001b[2K   \u001b[90m━━━━━━━━━━━━━━━━━━━━━━━━━━━━━━━━━━━━━━━━\u001b[0m \u001b[32m127.9/127.9 MB\u001b[0m \u001b[31m7.2 MB/s\u001b[0m eta \u001b[36m0:00:00\u001b[0m\n",
            "\u001b[2K   \u001b[90m━━━━━━━━━━━━━━━━━━━━━━━━━━━━━━━━━━━━━━━━\u001b[0m \u001b[32m207.5/207.5 MB\u001b[0m \u001b[31m5.4 MB/s\u001b[0m eta \u001b[36m0:00:00\u001b[0m\n",
            "\u001b[2K   \u001b[90m━━━━━━━━━━━━━━━━━━━━━━━━━━━━━━━━━━━━━━━━\u001b[0m \u001b[32m21.1/21.1 MB\u001b[0m \u001b[31m76.0 MB/s\u001b[0m eta \u001b[36m0:00:00\u001b[0m\n",
            "\u001b[2K   \u001b[90m━━━━━━━━━━━━━━━━━━━━━━━━━━━━━━━━━━━━━━━━\u001b[0m \u001b[32m95.6/95.6 kB\u001b[0m \u001b[31m7.4 MB/s\u001b[0m eta \u001b[36m0:00:00\u001b[0m\n",
            "\u001b[?25h  Building wheel for visdom (setup.py) ... \u001b[?25l\u001b[?25hdone\n",
            "  Building wheel for jericho (setup.py) ... \u001b[?25l\u001b[?25hdone\n",
            "  Building wheel for fast-downward-textworld (pyproject.toml) ... \u001b[?25l\u001b[?25hdone\n"
          ]
        }
      ],
      "source": [
        "!pip install --q alfworld[full]"
      ]
    },
    {
      "cell_type": "code",
      "execution_count": null,
      "metadata": {
        "colab": {
          "base_uri": "https://localhost:8080/",
          "height": 136
        },
        "id": "awRzJjldFP6y",
        "outputId": "743eb2b0-9789-4253-d838-5cb03ea9a907"
      },
      "outputs": [
        {
          "data": {
            "text/html": [
              "\n",
              "  <style>\n",
              "    pre {\n",
              "        white-space: pre-wrap;\n",
              "    }\n",
              "  </style>\n",
              "  "
            ],
            "text/plain": [
              "<IPython.core.display.HTML object>"
            ]
          },
          "metadata": {},
          "output_type": "display_data"
        },
        {
          "name": "stdout",
          "output_type": "stream",
          "text": [
            "Downloading json_2.1.1_json.zip: 100% 72.0M/72.0M [00:05<00:00, 12.1MB/s]\n",
            "Extracting json_2.1.1_json.zip: 100% 7302/7302 [00:06<00:00, 1066.34it/s]\n",
            "Downloading json_2.1.1_pddl.zip: 100% 34.9M/34.9M [00:02<00:00, 15.2MB/s]\n",
            "Extracting json_2.1.1_pddl.zip: 100% 7080/7080 [00:02<00:00, 2487.45it/s]\n",
            "Downloading json_2.1.2_tw-pddl.zip: 100% 36.5M/36.5M [00:04<00:00, 7.77MB/s]\n",
            "Extracting json_2.1.2_tw-pddl.zip: 100% 4027/4027 [00:02<00:00, 1946.30it/s]\n",
            "Downloading mrcnn_alfred_objects_sep13_004.pth: 100% 178M/178M [00:11<00:00, 15.6MB/s]\n"
          ]
        }
      ],
      "source": [
        "!alfworld-download"
      ]
    },
    {
      "cell_type": "code",
      "execution_count": null,
      "metadata": {
        "colab": {
          "base_uri": "https://localhost:8080/",
          "height": 85
        },
        "id": "uRF005Z6_pwy",
        "outputId": "51d8a9af-40c4-47b5-80bc-4b7506f11835"
      },
      "outputs": [
        {
          "data": {
            "text/html": [
              "\n",
              "  <style>\n",
              "    pre {\n",
              "        white-space: pre-wrap;\n",
              "    }\n",
              "  </style>\n",
              "  "
            ],
            "text/plain": [
              "<IPython.core.display.HTML object>"
            ]
          },
          "metadata": {},
          "output_type": "display_data"
        },
        {
          "name": "stdout",
          "output_type": "stream",
          "text": [
            "Initializing AlfredTWEnv...\n"
          ]
        },
        {
          "name": "stderr",
          "output_type": "stream",
          "text": [
            "100%|██████████| 341/341 [00:00<00:00, 903.34it/s]"
          ]
        },
        {
          "name": "stdout",
          "output_type": "stream",
          "text": [
            "Overall we have 134 games in split=eval_out_of_distribution\n",
            "Evaluating with 134 games\n"
          ]
        },
        {
          "name": "stderr",
          "output_type": "stream",
          "text": [
            "\n"
          ]
        }
      ],
      "source": [
        "import yaml\n",
        "import alfworld\n",
        "import alfworld.agents.environment.alfred_tw_env\n",
        "# with open('base_config.yaml') as reader:\n",
        "#     config = yaml.safe_load(reader)\n",
        "\n",
        "split = \"eval_out_of_distribution\"\n",
        "# config['env']['type'] = 'AlfredTwEnv'\n",
        "# print(config['env']['type'])\n",
        "env = getattr(alfworld.agents.environment.alfred_tw_env, 'AlfredTWEnv')(config, train_eval=split)\n",
        "env = env.init_env(batch_size=1)\n",
        "\n",
        "def process_ob(ob):\n",
        "    if ob.startswith('You arrive at loc '):\n",
        "        ob = ob[ob.find('. ')+2:]\n",
        "    return ob"
      ]
    },
    {
      "cell_type": "code",
      "execution_count": null,
      "metadata": {
        "id": "0nXPDmb3GXpl"
      },
      "outputs": [],
      "source": []
    },
    {
      "cell_type": "code",
      "execution_count": null,
      "metadata": {
        "colab": {
          "base_uri": "https://localhost:8080/",
          "height": 1000
        },
        "collapsed": true,
        "id": "hp-jZ_1cAvar",
        "outputId": "5f0f5527-e44a-4087-97f5-dc6bad434d73"
      },
      "outputs": [
        {
          "data": {
            "text/html": [
              "\n",
              "  <style>\n",
              "    pre {\n",
              "        white-space: pre-wrap;\n",
              "    }\n",
              "  </style>\n",
              "  "
            ],
            "text/plain": [
              "<IPython.core.display.HTML object>"
            ]
          },
          "metadata": {},
          "output_type": "display_data"
        },
        {
          "name": "stdout",
          "output_type": "stream",
          "text": [
            "obs: -= Welcome to TextWorld, ALFRED! =-\n",
            "\n",
            "You are in the middle of a room. Looking quickly around you, you see a cabinet 6, a cabinet 5, a cabinet 4, a cabinet 3, a cabinet 2, a cabinet 1, a coffeemachine 1, a countertop 3, a countertop 2, a countertop 1, a drawer 3, a drawer 2, a drawer 1, a fridge 1, a garbagecan 1, a microwave 1, a shelf 3, a shelf 2, a shelf 1, a sinkbasin 1, a stoveburner 4, a stoveburner 3, a stoveburner 2, a stoveburner 1, and a toaster 1.\n",
            "\n",
            "Your task is to: put a clean plate in countertop.\n",
            "info: {'admissible_commands': [['go to cabinet 1', 'go to cabinet 2', 'go to cabinet 3', 'go to cabinet 4', 'go to cabinet 5', 'go to cabinet 6', 'go to coffeemachine 1', 'go to countertop 1', 'go to countertop 2', 'go to countertop 3', 'go to drawer 1', 'go to drawer 2', 'go to drawer 3', 'go to fridge 1', 'go to garbagecan 1', 'go to microwave 1', 'go to shelf 1', 'go to shelf 2', 'go to shelf 3', 'go to sinkbasin 1', 'go to stoveburner 1', 'go to stoveburner 2', 'go to stoveburner 3', 'go to stoveburner 4', 'go to toaster 1', 'help', 'inventory', 'look']], 'extra.gamefile': ['/root/.cache/alfworld/json_2.1.1/valid_unseen/pick_clean_then_place_in_recep-Plate-None-CounterTop-10/trial_T20190908_213420_728917/game.tw-pddl'], 'won': [False]}\n",
            "Action: inventory, Obs: You are not carrying anything., done: False\n",
            "Action: go to drawer 3, Obs: You arrive at drawer 3. The drawer 3 is closed., done: False\n",
            "Action: go to countertop 1, Obs: You arrive at countertop 1. On the countertop 1, you see a apple 2, a dishsponge 2, a potato 3, and a potato 2., done: False\n",
            "Action: go to microwave 1, Obs: You arrive at microwave 1. The microwave 1 is closed., done: False\n",
            "Action: go to stoveburner 4, Obs: You arrive at stoveburner 4. On the stoveburner 4, you see a pan 1., done: False\n",
            "Action: help, Obs: Available commands:\n",
            "  look:                             look around your current location\n",
            "  inventory:                        check your current inventory\n",
            "  go to (receptacle):               move to a receptacle\n",
            "  open (receptacle):                open a receptacle\n",
            "  close (receptacle):               close a receptacle\n",
            "  take (object) from (receptacle):  take an object from a receptacle\n",
            "  move (object) to (receptacle):  place an object in or on a receptacle\n",
            "  examine (something):              examine a receptacle or an object\n",
            "  use (object):                     use an object\n",
            "  heat (object) with (receptacle):  heat an object using a receptacle\n",
            "  clean (object) with (receptacle): clean an object using a receptacle\n",
            "  cool (object) with (receptacle):  cool an object using a receptacle\n",
            "  slice (object) with (object):     slice an object using a sharp object\n",
            ", done: False\n",
            "Action: go to stoveburner 4, Obs: Nothing happens., done: False\n",
            "Action: look, Obs: You are facing the stoveburner 4, and stoveburner 2. Next to it, you see nothing., done: False\n",
            "Action: go to stoveburner 4, Obs: Nothing happens., done: False\n",
            "Action: go to cabinet 1, Obs: You arrive at cabinet 1. On the cabinet 1, you see a plate 1., done: False\n",
            "Action: go to stoveburner 2, Obs: You arrive at stoveburner 2. On the stoveburner 2, you see a pan 1., done: False\n",
            "Action: go to stoveburner 3, Obs: You arrive at stoveburner 3. On the stoveburner 3, you see a pot 1., done: False\n",
            "Action: go to cabinet 1, Obs: You arrive at cabinet 1. On the cabinet 1, you see a plate 1., done: False\n",
            "Action: inventory, Obs: You are not carrying anything., done: False\n",
            "Action: help, Obs: Available commands:\n",
            "  look:                             look around your current location\n",
            "  inventory:                        check your current inventory\n",
            "  go to (receptacle):               move to a receptacle\n",
            "  open (receptacle):                open a receptacle\n",
            "  close (receptacle):               close a receptacle\n",
            "  take (object) from (receptacle):  take an object from a receptacle\n",
            "  move (object) to (receptacle):  place an object in or on a receptacle\n",
            "  examine (something):              examine a receptacle or an object\n",
            "  use (object):                     use an object\n",
            "  heat (object) with (receptacle):  heat an object using a receptacle\n",
            "  clean (object) with (receptacle): clean an object using a receptacle\n",
            "  cool (object) with (receptacle):  cool an object using a receptacle\n",
            "  slice (object) with (object):     slice an object using a sharp object\n",
            ", done: False\n",
            "Action: go to stoveburner 3, Obs: You arrive at stoveburner 3. On the stoveburner 3, you see a pot 1., done: False\n",
            "Action: go to stoveburner 4, Obs: You arrive at stoveburner 4. On the stoveburner 4, you see a pan 1., done: False\n",
            "Action: go to stoveburner 1, Obs: You arrive at stoveburner 1. On the stoveburner 1, you see a pot 1., done: False\n",
            "Action: go to stoveburner 4, Obs: You arrive at stoveburner 4. On the stoveburner 4, you see a pan 1., done: False\n",
            "Action: go to stoveburner 4, Obs: Nothing happens., done: False\n",
            "Action: go to stoveburner 4, Obs: Nothing happens., done: False\n",
            "Action: go to coffeemachine 1, Obs: You arrive at coffeemachine 1. On the coffeemachine 1, you see nothing., done: False\n",
            "Action: inventory, Obs: You are not carrying anything., done: False\n",
            "Action: go to cabinet 6, Obs: You arrive at cabinet 6. The cabinet 6 is closed., done: False\n",
            "Action: go to stoveburner 2, Obs: You arrive at stoveburner 2. On the stoveburner 2, you see a pan 1., done: False\n",
            "Action: go to cabinet 2, Obs: You arrive at cabinet 2. The cabinet 2 is closed., done: False\n",
            "Action: go to countertop 2, Obs: You arrive at countertop 2. On the countertop 2, you see a bread 1, a cellphone 2, a cellphone 1, a papertowelroll 1, a plate 2, and a soapbottle 1., done: False\n",
            "Action: go to coffeemachine 1, Obs: You arrive at coffeemachine 1. On the coffeemachine 1, you see nothing., done: False\n",
            "Action: go to cabinet 4, Obs: You arrive at cabinet 4. On the cabinet 4, you see nothing., done: False\n",
            "Action: go to coffeemachine 1, Obs: You arrive at coffeemachine 1. On the coffeemachine 1, you see nothing., done: False\n",
            "Action: go to microwave 1, Obs: You arrive at microwave 1. The microwave 1 is closed., done: False\n",
            "Action: go to drawer 2, Obs: You arrive at drawer 2. The drawer 2 is closed., done: False\n",
            "Action: go to sinkbasin 1, Obs: You arrive at sinkbasin 1. On the sinkbasin 1, you see nothing., done: False\n",
            "Action: go to countertop 3, Obs: You arrive at countertop 3. On the countertop 3, you see a bread 2, a butterknife 1, a cellphone 3, a creditcard 3, a fork 1, a glassbottle 1, a houseplant 1, a lettuce 2, a plate 3, a spatula 3, a spoon 1, and a statue 2., done: False\n",
            "Action: go to sinkbasin 1, Obs: You arrive at sinkbasin 1. On the sinkbasin 1, you see nothing., done: False\n",
            "Action: go to coffeemachine 1, Obs: You arrive at coffeemachine 1. On the coffeemachine 1, you see nothing., done: False\n",
            "Action: go to countertop 3, Obs: You arrive at countertop 3. On the countertop 3, you see a bread 2, a butterknife 1, a cellphone 3, a creditcard 3, a fork 1, a glassbottle 1, a houseplant 1, a lettuce 2, a plate 3, a spatula 3, a spoon 1, and a statue 2., done: False\n",
            "Action: go to drawer 2, Obs: You arrive at drawer 2. The drawer 2 is closed., done: False\n",
            "Action: go to countertop 1, Obs: You arrive at countertop 1. On the countertop 1, you see a apple 2, a dishsponge 2, a potato 3, and a potato 2., done: False\n",
            "Action: go to fridge 1, Obs: You arrive at fridge 1. The fridge 1 is closed., done: False\n",
            "Action: go to drawer 3, Obs: You arrive at drawer 3. The drawer 3 is closed., done: False\n",
            "Action: inventory, Obs: You are not carrying anything., done: False\n",
            "Action: go to shelf 2, Obs: You arrive at shelf 2. On the shelf 2, you see a cup 2, a plate 4, a saltshaker 2, and a vase 1., done: False\n",
            "Action: go to cabinet 1, Obs: You arrive at cabinet 1. On the cabinet 1, you see a plate 1., done: False\n",
            "Action: go to stoveburner 3, Obs: You arrive at stoveburner 3. On the stoveburner 3, you see a pot 1., done: False\n",
            "Action: go to shelf 1, Obs: You arrive at shelf 1. On the shelf 1, you see a statue 1., done: False\n",
            "Action: help, Obs: Available commands:\n",
            "  look:                             look around your current location\n",
            "  inventory:                        check your current inventory\n",
            "  go to (receptacle):               move to a receptacle\n",
            "  open (receptacle):                open a receptacle\n",
            "  close (receptacle):               close a receptacle\n",
            "  take (object) from (receptacle):  take an object from a receptacle\n",
            "  move (object) to (receptacle):  place an object in or on a receptacle\n",
            "  examine (something):              examine a receptacle or an object\n",
            "  use (object):                     use an object\n",
            "  heat (object) with (receptacle):  heat an object using a receptacle\n",
            "  clean (object) with (receptacle): clean an object using a receptacle\n",
            "  cool (object) with (receptacle):  cool an object using a receptacle\n",
            "  slice (object) with (object):     slice an object using a sharp object\n",
            ", done: False\n",
            "Action: go to shelf 1, Obs: Nothing happens., done: False\n",
            "Action: look, Obs: You are facing the shelf 1. Next to it, you see nothing., done: False\n",
            "Action: go to shelf 3, Obs: You arrive at shelf 3. On the shelf 3, you see a vase 2., done: True\n"
          ]
        }
      ],
      "source": [
        "import numpy as np\n",
        "# interact\n",
        "obs, info = env.reset()\n",
        "print(f'obs: {obs[0]}')\n",
        "print(f'info: {info}')\n",
        "done = False\n",
        "while done==False:\n",
        "    # get random actions from admissible 'valid' commands (not available for AlfredThorEnv)\n",
        "    admissible_commands = list(info['admissible_commands']) # note: BUTLER generates commands word-by-word without using admissible_commands\n",
        "    random_actions = [np.random.choice(admissible_commands[0])]\n",
        "\n",
        "    # step\n",
        "    obs, scores, dones, infos = env.step(random_actions)\n",
        "    print(\"Action: {}, Obs: {}, done: {}\".format(random_actions[0], obs[0], dones[0]))\n",
        "    done = dones[0]\n"
      ]
    },
    {
      "cell_type": "code",
      "execution_count": null,
      "metadata": {
        "colab": {
          "base_uri": "https://localhost:8080/",
          "height": 17
        },
        "id": "I6g7VPHJE3cf",
        "outputId": "40c6be7f-672e-48e4-9cc1-6e560acb616f"
      },
      "outputs": [
        {
          "data": {
            "text/html": [
              "\n",
              "  <style>\n",
              "    pre {\n",
              "        white-space: pre-wrap;\n",
              "    }\n",
              "  </style>\n",
              "  "
            ],
            "text/plain": [
              "<IPython.core.display.HTML object>"
            ]
          },
          "metadata": {},
          "output_type": "display_data"
        }
      ],
      "source": [
        "prompt1 = 'Environment Description: Interact with a house hold to solve a task. Imagine you are an intelligent agent in a household environment and your target is to perform actions to complete the task goal. At the beginning of your interactions, you will be given the detailed description of the current environment and your goal to accomplish. For each of your turn, you will be given a list of actions which you can choose one to perform in this turn. \\n Actions You should choose from two actions: “THOUGHT” or “ACTION”. If you choose “THOUGHT,” you should first think about the current condition and plan for your future actions, and then output your action in this turn. Your output must strictly follow this format: \\n THOUGHT: your thoughts \\n ACTION: your next action. \\n If you choose “ACTION”, you should directly output the action in this turn. Your output must strictly follow this format: \\n ACTION: your next action. \\n After your each turn, the environment will give you immediate feedback based on which you plan your next few steps. if the environment output Nothing happened, that means the previous action is invalid and you should try more options.'"
      ]
    },
    {
      "cell_type": "code",
      "execution_count": null,
      "metadata": {
        "colab": {
          "base_uri": "https://localhost:8080/",
          "height": 204
        },
        "id": "Zb-W26eEZAho",
        "outputId": "ca21f2ec-2a3c-47ce-cd58-fe29d99682fb"
      },
      "outputs": [
        {
          "data": {
            "text/html": [
              "\n",
              "  <style>\n",
              "    pre {\n",
              "        white-space: pre-wrap;\n",
              "    }\n",
              "  </style>\n",
              "  "
            ],
            "text/plain": [
              "<IPython.core.display.HTML object>"
            ]
          },
          "metadata": {},
          "output_type": "display_data"
        },
        {
          "name": "stdout",
          "output_type": "stream",
          "text": [
            "Environment Description: Interact with a house hold to solve a task. Imagine you are an intelligent agent in a household environment and your target is to perform actions to complete the task goal. At the beginning of your interactions, you will be given the detailed description of the current environment and your goal to accomplish. For each of your turn, you will be given a list of actions which you can choose one to perform in this turn. \n",
            " Actions You should choose from two actions: “THOUGHT” or “ACTION”. If you choose “THOUGHT,” you should first think about the current condition and plan for your future actions, and then output your action in this turn. Your output must strictly follow this format: \n",
            " THOUGHT: your thoughts \n",
            " ACTION: your next action. \n",
            " If you choose “ACTION”, you should directly output the action in this turn. Your output must strictly follow this format: \n",
            " ACTION: your next action. \n",
            " After your each turn, the environment will give you immediate feedback based on which you plan your next few steps. if the environment output Nothing happened, that means the previous action is invalid and you should try more options.\n"
          ]
        }
      ],
      "source": [
        "print(prompt1)"
      ]
    },
    {
      "cell_type": "code",
      "execution_count": null,
      "metadata": {
        "colab": {
          "base_uri": "https://localhost:8080/",
          "height": 17
        },
        "id": "nJqIEJsPTTce",
        "outputId": "c3a38687-33fd-41bc-e30a-7b811cf2813a"
      },
      "outputs": [
        {
          "data": {
            "text/html": [
              "\n",
              "  <style>\n",
              "    pre {\n",
              "        white-space: pre-wrap;\n",
              "    }\n",
              "  </style>\n",
              "  "
            ],
            "text/plain": [
              "<IPython.core.display.HTML object>"
            ]
          },
          "metadata": {},
          "output_type": "display_data"
        }
      ],
      "source": [
        "prompt3 = 'Reminder: \\n 1. The action must be chosen from the given available actions. Any actions except provided available actions will be regarded as illegal. \\n 2. Think when necessary, try to act directly more in the process.\\n Initial Observation You are in the middle of a room. Looking quickly around you, you see a cabinet 16, a cabinet 15, a cabinet 14, a cabinet 13, a cabinet 12, a cabinet 11, a cabinet 10, a cabinet 9, a cabinet 8, a cabinet 7, a cabinet 6, a cabinet 5, a cabinet 4, a cabinet 3, a cabinet 2, a cabinet 1, a coffeemachine 1, a countertop 2, a countertop 1, a diningtable 1, a drawer 5, a drawer 4, a drawer 3, a drawer 2, a drawer 1, a fridge 1, a garbagecan 1, a microwave 1, a safe 1, a sinkbasin 1, a stoveburner 4, a stoveburner 3, a stoveburner 2, a stoveburner 1, and a toaster 1. Your task is to: '"
      ]
    },
    {
      "cell_type": "code",
      "execution_count": null,
      "metadata": {
        "colab": {
          "base_uri": "https://localhost:8080/",
          "height": 136
        },
        "collapsed": true,
        "id": "bGqzsilua4jR",
        "outputId": "f67dcb9c-dffe-4a85-dc53-d6c57b8c4521"
      },
      "outputs": [
        {
          "data": {
            "text/html": [
              "\n",
              "  <style>\n",
              "    pre {\n",
              "        white-space: pre-wrap;\n",
              "    }\n",
              "  </style>\n",
              "  "
            ],
            "text/plain": [
              "<IPython.core.display.HTML object>"
            ]
          },
          "metadata": {},
          "output_type": "display_data"
        },
        {
          "name": "stdout",
          "output_type": "stream",
          "text": [
            "Reminder: \n",
            " 1. The action must be chosen from the given available actions. Any actions except provided available actions will be regarded as illegal. \n",
            " 2. Think when necessary, try to act directly more in the process.\n",
            " Initial Observation You are in the middle of a room. Looking quickly around you, you see a cabinet 16, a cabinet 15, a cabinet 14, a cabinet 13, a cabinet 12, a cabinet 11, a cabinet 10, a cabinet 9, a cabinet 8, a cabinet 7, a cabinet 6, a cabinet 5, a cabinet 4, a cabinet 3, a cabinet 2, a cabinet 1, a coffeemachine 1, a countertop 2, a countertop 1, a diningtable 1, a drawer 5, a drawer 4, a drawer 3, a drawer 2, a drawer 1, a fridge 1, a garbagecan 1, a microwave 1, a safe 1, a sinkbasin 1, a stoveburner 4, a stoveburner 3, a stoveburner 2, a stoveburner 1, and a toaster 1. Your task is to: \n"
          ]
        }
      ],
      "source": [
        "print(prompt3)"
      ]
    },
    {
      "cell_type": "code",
      "execution_count": null,
      "metadata": {
        "colab": {
          "base_uri": "https://localhost:8080/",
          "height": 1000
        },
        "id": "ygVhN7exfpCm",
        "outputId": "13e492ea-e764-44d5-c033-dc7a77262161"
      },
      "outputs": [
        {
          "data": {
            "text/html": [
              "\n",
              "  <style>\n",
              "    pre {\n",
              "        white-space: pre-wrap;\n",
              "    }\n",
              "  </style>\n",
              "  "
            ],
            "text/plain": [
              "<IPython.core.display.HTML object>"
            ]
          },
          "metadata": {},
          "output_type": "display_data"
        },
        {
          "name": "stdout",
          "output_type": "stream",
          "text": [
            "pick_cool_then_place_in_recep-Mug-None-Cabinet-10/trial_T20190909_121559_082363\n",
            "pick_cool_then_place cool\n",
            "You are in the middle of a room. Looking quickly around you, you see a cabinet 6, a cabinet 5, a cabinet 4, a cabinet 3, a cabinet 2, a cabinet 1, a coffeemachine 1, a countertop 3, a countertop 2, a countertop 1, a drawer 3, a drawer 2, a drawer 1, a fridge 1, a garbagecan 1, a microwave 1, a shelf 3, a shelf 2, a shelf 1, a sinkbasin 1, a stoveburner 4, a stoveburner 3, a stoveburner 2, a stoveburner 1, and a toaster 1.\n",
            "Your task is to: put a cool mug in cabinet.\n",
            "Act 1: THOUGHT: I need to find a cool mug and then get it to the cabinet.\n",
            "Obs 1: Nothing happens.\n",
            "Act 2: ACTION: Search for a cool mug.\n",
            "Obs 2: Nothing happens.\n",
            "Act 3: Thought: I should try to check if there's a cool mug in one of the available places.\n",
            "Obs 3: Nothing happens.\n",
            "Act 4: > THOUGHT: I should  try \"ACTION\"  by looking at the other location to see if I can find a cool mug there.\n",
            "Obs 4: Nothing happens.\n",
            "Act 5: ACTION: Search the countertop\n",
            "Obs 5: Nothing happens.\n",
            "Act 6: Thought: I should check the fridge for a cool mug.\n",
            "Obs 6: Nothing happens.\n",
            "Act 7: ACTION: Search the fridge\n",
            "Obs 7: Nothing happens.\n",
            "Act 8: Thought:  I should really make sure to find a cool mug first. Maybe the cabinet needs to be properly placed first before I move this mug in.\n",
            "Obs 8: Nothing happens.\n",
            "Act 9: Thought:  Need more information about the household. Can I tell the agent what is the condition of the cabinet or mug would be helpful.\n",
            "Obs 9: Nothing happens.\n",
            "Act 10: Okay, I understand the situation! I need to find a cool mug and bring it to cabinet.\n",
            "Obs 10: Nothing happens.\n",
            "Act 11: > THOUGHT: I will start by checking all the available places first.\n",
            "Obs 11: Nothing happens.\n",
            "Act 12: ACTION: Search the kitchen drawers\n",
            "Obs 12: Nothing happens.\n",
            "Act 13: Okay, I understand the situation! I need to find a cool mug and bring it to cabinet.\n",
            "Obs 13: Nothing happens.\n",
            "Act 14: Okay, I'll try again.\n",
            "Obs 14: Nothing happens.\n",
            "Act 15: > THOUGHT: It's getting stuck it seems, I need to make a plan.  How about trying the countertops again?\n",
            "Obs 15: Nothing happens.\n",
            "Act 16: Okay, I will search on the countertops again.\n",
            "Obs 16: Nothing happens.\n",
            "Act 17: > ACTION: Search the countertop\n",
            "Obs 17: Nothing happens.\n",
            "Act 18: Okay, I think I need to look inside refrigerators to see if a cool mug is there.  I'll search the refrigerator!\n",
            "Obs 18: Nothing happens.\n",
            "Act 19: > ACTION: Search the refrigerator\n",
            "Obs 19: Nothing happens.\n",
            "Act 20: Okay, I think I see what's going on. I am in dire need of more information!\n",
            "Obs 20: Nothing happens.\n",
            "Act 21: > THOUGHT: I need more information about the household! I should ask for details.\n",
            "Obs 21: Nothing happens.\n",
            "Act 22: I understand.  Let me clarify the task and provide the agent with the needed details. I believe picking a unique action is important for consistent and fruitful interaction with the \"environment\".  I will proceed with what the house does and use the feedback.\n",
            "Obs 22: Nothing happens.\n",
            "Act 23: Okay, I understand. I need more information about the household! Let me clarify the task and provide the agent with the needed details. Here's what I need to know:\n",
            "Obs 23: Nothing happens.\n",
            "Act 24: Okay, I'm ready to refine the task and get started!\n",
            "Obs 24: Nothing happens.\n",
            "Act 25: Okay, I have the definition.\n",
            "Obs 25: Nothing happens.\n",
            "Act 26: I'm ready to start! Please give me the  details of the household\n",
            "Obs 26: Nothing happens.\n",
            "Act 27: Okay, I understand that this is a simulated environment and that my goal is to fulfill a missing concept or detail. I need information about the household to act appropriately and complete the task.\n",
            "Obs 27: Nothing happens.\n",
            "Act 28: > Okay, I now understand that you need details about the household to act.  Let me start by describing what's in my purview and what I am seeking information on.\n",
            "Obs 28: Nothing happens.\n",
            "Act 29: Okay, I'll help you with this.  It's time to get more information.\n",
            "Obs 29: Nothing happens.\n",
            "Act 30: Okay, I understand.\n",
            "Obs 30: Nothing happens.\n",
            "Act 31: Okay, I'm ready to start helping! I'm ready to be thoroughly instructed and complete my goal. Please give me detailed information about the house so that I know what I'm working with.\n",
            "Obs 31: Nothing happens.\n",
            "Act 32: This is a great start to your simulation! This scenario creates a focus on planning and learning, which is very relevant for AI agents. Here's how we can refine this:\n",
            "Obs 32: Nothing happens.\n",
            "Act 33: Okay, I'm eager to delve into this household simulation.\n",
            "Obs 33: Nothing happens.\n",
            "Act 34: That's a great start! I like how this setup focuses on a household environment and problem-solving.  To really make this more interactive and dynamic, we need to flesh out the details.\n",
            "Obs 34: Nothing happens.\n",
            "Act 35: It's great you are thinking creatively about how to approach this!  Let's build a more informative and successful environment.\n",
            "Obs 35: Nothing happens.\n",
            "Act 36: Okay, I understand.  I need more information about the household to act appropriately and complete the task. Tell me about the household. What kind of costs are important to consider? What features of the house affect the process of completing the task?\n",
            "Obs 36: Nothing happens.\n",
            "Act 37: It sounds like you're building a fantastic AI simulation!  However, as a large language model, I can't actually *think*  or plan like a human.  I need clear instructions and available actions to move forward.\n",
            "Obs 37: Nothing happens.\n",
            "Act 38: You're right! I apologize for getting caught up in the exciting world we're building.\n",
            "Obs 38: Nothing happens.\n",
            "Act 39: This is a great start to an interesting scenario!  I understand now. To help your agent complete the task, let's add details and specificity. I can help you with building out this simulation.  Let's begin:\n",
            "Obs 39: Nothing happens.\n",
            "Act 40: You are right! I need to break down this process into clearer steps and focus on language I can understand.  I can definitely improve my performance in this type of interaction.\n",
            "Obs 40: Nothing happens.\n",
            "Act 41: You're on the right track! The descriptions are getting more detailed and conversational.\n",
            "Obs 41: Nothing happens.\n",
            "Act 42: You're doing a great job on prompting the household setting. It sounds like a fun and flexible game!\n",
            "Obs 42: Nothing happens.\n",
            "Act 43: Let's refine this household simulation! I see you're setting up a good foundation, incorporating a focus on planning and action-selection. To make this truly engaging, let's model it in a way that allows for more sophisticated reasoning and response generation.\n",
            "Obs 43: Nothing happens.\n",
            "Act 44: This is a really cool idea! It sounds like an engaging project that combines basic text-based interaction with real constraints.\n",
            "Obs 44: Nothing happens.\n",
            "Act 45: It seems like you have a really interesting and complex simulation in progress! You're exploring the interplay between human interaction, storytelling, and the potential of how language models can learn.\n",
            "Obs 45: Nothing happens.\n",
            "Act 46: You are on the right track! Let's focus on guiding this simulation toward a successful and engaging experience. The  ability to interact with realistic objects and perform actions appears to be missing.  To meet this, you need to give the AI more specific tasks.  Here's what I need:\n",
            "Obs 46: Nothing happens.\n",
            "Act 47: You're close to a fun and challenging simulation! What specifically would you like to change about the environment or set the AI's goals for? There are a few directions you could go in:\n",
            "Obs 47: Nothing happens.\n",
            "Act 48: Let's solidify this household simulation! Here's a way to strengthen this interaction:\n",
            "Obs 48: Nothing happens.\n",
            "Act 49: Okay, I understand! We should create a more dynamic and realistic environment.\n",
            "Obs 49: Nothing happens.\n",
            "1 r 0 rs [0, 0, 0, 0, 0, 0] cnts [0, 0, 0, 1, 0, 0] sum(rs)/sum(cnts) 0.0\n",
            "------------\n",
            "\n",
            "look_at_obj_in_light-Book-None-DeskLamp-308/trial_T20190908_020029_636862\n",
            "look_at_obj examine\n",
            "You are in the middle of a room. Looking quickly around you, you see a bed 1, a desk 2, a desk 1, a drawer 6, a drawer 5, a drawer 4, a drawer 3, a drawer 2, a drawer 1, a garbagecan 1, a laundryhamper 1, a safe 1, a shelf 6, a shelf 5, a shelf 4, a shelf 3, a shelf 2, and a shelf 1.\n",
            "Your task is to: examine the book with the desklamp.\n",
            "Act 1: THOUGHT: The goal is to examine the book with the desklamp. I need to figure out where the book is and then whether the desk lamp is in use. ACTION: look for the book\n",
            "Obs 1: Nothing happens.\n",
            "Act 2: ACTION: look for the desklamp\n",
            "Obs 2: Nothing happens.\n",
            "Act 3: ACTION: look under the bed\n",
            "Obs 3: Nothing happens.\n",
            "Act 4: > THOUGHT: The book could be anywhere, and the desk lamp might be moved. I should investigate more of the room. ACTION: go to the closet\n",
            "Obs 4: Nothing happens.\n",
            "Act 5: action:look under the bed\n",
            "Obs 5: Nothing happens.\n",
            "Act 6: ACTION: go to the desk\n",
            "Obs 6: Nothing happens.\n",
            "Act 7: ```tool_code\n",
            "Obs 7: Nothing happens.\n",
            "Act 8: ```tool_code\n",
            "Obs 8: Nothing happens.\n",
            "Act 9: ACTION: look under the desk\n",
            "Obs 9: Nothing happens.\n",
            "Act 10: ```tool_code\n",
            "Obs 10: Nothing happens.\n",
            "Act 11: Okay, I understand the scenario and constraints.  Here's what I've learned about the situation so far.\n",
            "Obs 11: Nothing happens.\n",
            "Act 12: Okay, this is an interesting environment. I need to gather more information about the location of the book and the desk lamp.\n",
            "Obs 12: Nothing happens.\n",
            "Act 13: > THOUGHT: I need to explore different areas of the room, focusing on exposed surfaces where the book might be.\n",
            "Obs 13: Nothing happens.\n",
            "Act 14: > ACTION:  Go to the bookshelf\n",
            "Obs 14: Nothing happens.\n"
          ]
        },
        {
          "ename": "KeyboardInterrupt",
          "evalue": "",
          "output_type": "error",
          "traceback": [
            "\u001b[0;31m---------------------------------------------------------------------------\u001b[0m",
            "\u001b[0;31mKeyboardInterrupt\u001b[0m                         Traceback (most recent call last)",
            "\u001b[0;32m<ipython-input-45-d6f7ac77fa06>\u001b[0m in \u001b[0;36m<cell line: 0>\u001b[0;34m()\u001b[0m\n\u001b[1;32m     19\u001b[0m             \u001b[0mprompt\u001b[0m \u001b[0;34m=\u001b[0m \u001b[0mprompt1\u001b[0m\u001b[0;34m+\u001b[0m\u001b[0mprompt3\u001b[0m\u001b[0;34m\u001b[0m\u001b[0;34m\u001b[0m\u001b[0m\n\u001b[1;32m     20\u001b[0m             \u001b[0mprint\u001b[0m\u001b[0;34m(\u001b[0m\u001b[0mk\u001b[0m\u001b[0;34m,\u001b[0m \u001b[0mv\u001b[0m\u001b[0;34m)\u001b[0m\u001b[0;34m\u001b[0m\u001b[0;34m\u001b[0m\u001b[0m\n\u001b[0;32m---> 21\u001b[0;31m             \u001b[0mr\u001b[0m \u001b[0;34m=\u001b[0m \u001b[0malfworld_run\u001b[0m\u001b[0;34m(\u001b[0m\u001b[0mprompt\u001b[0m\u001b[0;34m,\u001b[0m \u001b[0mob\u001b[0m\u001b[0;34m=\u001b[0m\u001b[0mob\u001b[0m\u001b[0;34m)\u001b[0m\u001b[0;34m\u001b[0m\u001b[0;34m\u001b[0m\u001b[0m\n\u001b[0m\u001b[1;32m     22\u001b[0m             \u001b[0mrs\u001b[0m\u001b[0;34m[\u001b[0m\u001b[0mi\u001b[0m\u001b[0;34m]\u001b[0m \u001b[0;34m+=\u001b[0m \u001b[0mr\u001b[0m\u001b[0;34m\u001b[0m\u001b[0;34m\u001b[0m\u001b[0m\n\u001b[1;32m     23\u001b[0m             \u001b[0mcnts\u001b[0m\u001b[0;34m[\u001b[0m\u001b[0mi\u001b[0m\u001b[0;34m]\u001b[0m \u001b[0;34m+=\u001b[0m \u001b[0;36m1\u001b[0m\u001b[0;34m\u001b[0m\u001b[0;34m\u001b[0m\u001b[0m\n",
            "\u001b[0;32m<ipython-input-42-518956a76385>\u001b[0m in \u001b[0;36malfworld_run\u001b[0;34m(prompt, to_print, ob)\u001b[0m\n\u001b[1;32m      8\u001b[0m         \u001b[0msys\u001b[0m\u001b[0;34m.\u001b[0m\u001b[0mstdout\u001b[0m\u001b[0;34m.\u001b[0m\u001b[0mflush\u001b[0m\u001b[0;34m(\u001b[0m\u001b[0;34m)\u001b[0m\u001b[0;34m\u001b[0m\u001b[0;34m\u001b[0m\u001b[0m\n\u001b[1;32m      9\u001b[0m     \u001b[0;32mfor\u001b[0m \u001b[0mi\u001b[0m \u001b[0;32min\u001b[0m \u001b[0mrange\u001b[0m\u001b[0;34m(\u001b[0m\u001b[0;36m1\u001b[0m\u001b[0;34m,\u001b[0m \u001b[0;36m50\u001b[0m\u001b[0;34m)\u001b[0m\u001b[0;34m:\u001b[0m\u001b[0;34m\u001b[0m\u001b[0;34m\u001b[0m\u001b[0m\n\u001b[0;32m---> 10\u001b[0;31m         \u001b[0maction\u001b[0m \u001b[0;34m=\u001b[0m \u001b[0mchat_completion\u001b[0m\u001b[0;34m(\u001b[0m\u001b[0minit_prompt\u001b[0m \u001b[0;34m+\u001b[0m \u001b[0mprompt\u001b[0m\u001b[0;34m,\u001b[0m \u001b[0mstop\u001b[0m\u001b[0;34m=\u001b[0m\u001b[0;34m[\u001b[0m\u001b[0;34m'\\n'\u001b[0m\u001b[0;34m]\u001b[0m\u001b[0;34m)\u001b[0m\u001b[0;34m.\u001b[0m\u001b[0mstrip\u001b[0m\u001b[0;34m(\u001b[0m\u001b[0;34m)\u001b[0m\u001b[0;34m\u001b[0m\u001b[0;34m\u001b[0m\u001b[0m\n\u001b[0m\u001b[1;32m     11\u001b[0m         \u001b[0mobservation\u001b[0m\u001b[0;34m,\u001b[0m \u001b[0mreward\u001b[0m\u001b[0;34m,\u001b[0m \u001b[0mdone\u001b[0m\u001b[0;34m,\u001b[0m \u001b[0minfo\u001b[0m \u001b[0;34m=\u001b[0m \u001b[0menv\u001b[0m\u001b[0;34m.\u001b[0m\u001b[0mstep\u001b[0m\u001b[0;34m(\u001b[0m\u001b[0;34m[\u001b[0m\u001b[0maction\u001b[0m\u001b[0;34m]\u001b[0m\u001b[0;34m)\u001b[0m\u001b[0;34m\u001b[0m\u001b[0;34m\u001b[0m\u001b[0m\n\u001b[1;32m     12\u001b[0m         \u001b[0mobservation\u001b[0m\u001b[0;34m,\u001b[0m \u001b[0mreward\u001b[0m\u001b[0;34m,\u001b[0m \u001b[0mdone\u001b[0m \u001b[0;34m=\u001b[0m \u001b[0mprocess_ob\u001b[0m\u001b[0;34m(\u001b[0m\u001b[0mobservation\u001b[0m\u001b[0;34m[\u001b[0m\u001b[0;36m0\u001b[0m\u001b[0;34m]\u001b[0m\u001b[0;34m)\u001b[0m\u001b[0;34m,\u001b[0m \u001b[0minfo\u001b[0m\u001b[0;34m[\u001b[0m\u001b[0;34m'won'\u001b[0m\u001b[0;34m]\u001b[0m\u001b[0;34m[\u001b[0m\u001b[0;36m0\u001b[0m\u001b[0;34m]\u001b[0m\u001b[0;34m,\u001b[0m \u001b[0mdone\u001b[0m\u001b[0;34m[\u001b[0m\u001b[0;36m0\u001b[0m\u001b[0;34m]\u001b[0m\u001b[0;34m\u001b[0m\u001b[0;34m\u001b[0m\u001b[0m\n",
            "\u001b[0;32m<ipython-input-44-9d8dd8dfff7d>\u001b[0m in \u001b[0;36mchat_completion\u001b[0;34m(prompt, stop)\u001b[0m\n\u001b[1;32m     15\u001b[0m     \u001b[0mmodel\u001b[0m\u001b[0;34m=\u001b[0m\u001b[0;34m\"google/gemma-2-2b-it\"\u001b[0m\u001b[0;34m\u001b[0m\u001b[0;34m\u001b[0m\u001b[0m\n\u001b[1;32m     16\u001b[0m     \u001b[0mmax_tokens\u001b[0m\u001b[0;34m=\u001b[0m\u001b[0;36m500\u001b[0m\u001b[0;34m\u001b[0m\u001b[0;34m\u001b[0m\u001b[0m\n\u001b[0;32m---> 17\u001b[0;31m     response = client.chat.completions.create(\n\u001b[0m\u001b[1;32m     18\u001b[0m         \u001b[0mmodel\u001b[0m\u001b[0;34m=\u001b[0m\u001b[0mmodel\u001b[0m\u001b[0;34m,\u001b[0m\u001b[0;34m\u001b[0m\u001b[0;34m\u001b[0m\u001b[0m\n\u001b[1;32m     19\u001b[0m         \u001b[0mmessages\u001b[0m\u001b[0;34m=\u001b[0m\u001b[0mmessages\u001b[0m\u001b[0;34m,\u001b[0m\u001b[0;34m\u001b[0m\u001b[0;34m\u001b[0m\u001b[0m\n",
            "\u001b[0;32m/usr/local/lib/python3.11/dist-packages/openai/_utils/_utils.py\u001b[0m in \u001b[0;36mwrapper\u001b[0;34m(*args, **kwargs)\u001b[0m\n\u001b[1;32m    277\u001b[0m                         \u001b[0mmsg\u001b[0m \u001b[0;34m=\u001b[0m \u001b[0;34mf\"Missing required argument: {quote(missing[0])}\"\u001b[0m\u001b[0;34m\u001b[0m\u001b[0;34m\u001b[0m\u001b[0m\n\u001b[1;32m    278\u001b[0m                 \u001b[0;32mraise\u001b[0m \u001b[0mTypeError\u001b[0m\u001b[0;34m(\u001b[0m\u001b[0mmsg\u001b[0m\u001b[0;34m)\u001b[0m\u001b[0;34m\u001b[0m\u001b[0;34m\u001b[0m\u001b[0m\n\u001b[0;32m--> 279\u001b[0;31m             \u001b[0;32mreturn\u001b[0m \u001b[0mfunc\u001b[0m\u001b[0;34m(\u001b[0m\u001b[0;34m*\u001b[0m\u001b[0margs\u001b[0m\u001b[0;34m,\u001b[0m \u001b[0;34m**\u001b[0m\u001b[0mkwargs\u001b[0m\u001b[0;34m)\u001b[0m\u001b[0;34m\u001b[0m\u001b[0;34m\u001b[0m\u001b[0m\n\u001b[0m\u001b[1;32m    280\u001b[0m \u001b[0;34m\u001b[0m\u001b[0m\n\u001b[1;32m    281\u001b[0m         \u001b[0;32mreturn\u001b[0m \u001b[0mwrapper\u001b[0m  \u001b[0;31m# type: ignore\u001b[0m\u001b[0;34m\u001b[0m\u001b[0;34m\u001b[0m\u001b[0m\n",
            "\u001b[0;32m/usr/local/lib/python3.11/dist-packages/openai/resources/chat/completions.py\u001b[0m in \u001b[0;36mcreate\u001b[0;34m(self, messages, model, audio, frequency_penalty, function_call, functions, logit_bias, logprobs, max_completion_tokens, max_tokens, metadata, modalities, n, parallel_tool_calls, prediction, presence_penalty, reasoning_effort, response_format, seed, service_tier, stop, store, stream, stream_options, temperature, tool_choice, tools, top_logprobs, top_p, user, extra_headers, extra_query, extra_body, timeout)\u001b[0m\n\u001b[1;32m    861\u001b[0m     ) -> ChatCompletion | Stream[ChatCompletionChunk]:\n\u001b[1;32m    862\u001b[0m         \u001b[0mvalidate_response_format\u001b[0m\u001b[0;34m(\u001b[0m\u001b[0mresponse_format\u001b[0m\u001b[0;34m)\u001b[0m\u001b[0;34m\u001b[0m\u001b[0;34m\u001b[0m\u001b[0m\n\u001b[0;32m--> 863\u001b[0;31m         return self._post(\n\u001b[0m\u001b[1;32m    864\u001b[0m             \u001b[0;34m\"/chat/completions\"\u001b[0m\u001b[0;34m,\u001b[0m\u001b[0;34m\u001b[0m\u001b[0;34m\u001b[0m\u001b[0m\n\u001b[1;32m    865\u001b[0m             body=maybe_transform(\n",
            "\u001b[0;32m/usr/local/lib/python3.11/dist-packages/openai/_base_client.py\u001b[0m in \u001b[0;36mpost\u001b[0;34m(self, path, cast_to, body, options, files, stream, stream_cls)\u001b[0m\n\u001b[1;32m   1281\u001b[0m             \u001b[0mmethod\u001b[0m\u001b[0;34m=\u001b[0m\u001b[0;34m\"post\"\u001b[0m\u001b[0;34m,\u001b[0m \u001b[0murl\u001b[0m\u001b[0;34m=\u001b[0m\u001b[0mpath\u001b[0m\u001b[0;34m,\u001b[0m \u001b[0mjson_data\u001b[0m\u001b[0;34m=\u001b[0m\u001b[0mbody\u001b[0m\u001b[0;34m,\u001b[0m \u001b[0mfiles\u001b[0m\u001b[0;34m=\u001b[0m\u001b[0mto_httpx_files\u001b[0m\u001b[0;34m(\u001b[0m\u001b[0mfiles\u001b[0m\u001b[0;34m)\u001b[0m\u001b[0;34m,\u001b[0m \u001b[0;34m**\u001b[0m\u001b[0moptions\u001b[0m\u001b[0;34m\u001b[0m\u001b[0;34m\u001b[0m\u001b[0m\n\u001b[1;32m   1282\u001b[0m         )\n\u001b[0;32m-> 1283\u001b[0;31m         \u001b[0;32mreturn\u001b[0m \u001b[0mcast\u001b[0m\u001b[0;34m(\u001b[0m\u001b[0mResponseT\u001b[0m\u001b[0;34m,\u001b[0m \u001b[0mself\u001b[0m\u001b[0;34m.\u001b[0m\u001b[0mrequest\u001b[0m\u001b[0;34m(\u001b[0m\u001b[0mcast_to\u001b[0m\u001b[0;34m,\u001b[0m \u001b[0mopts\u001b[0m\u001b[0;34m,\u001b[0m \u001b[0mstream\u001b[0m\u001b[0;34m=\u001b[0m\u001b[0mstream\u001b[0m\u001b[0;34m,\u001b[0m \u001b[0mstream_cls\u001b[0m\u001b[0;34m=\u001b[0m\u001b[0mstream_cls\u001b[0m\u001b[0;34m)\u001b[0m\u001b[0;34m)\u001b[0m\u001b[0;34m\u001b[0m\u001b[0;34m\u001b[0m\u001b[0m\n\u001b[0m\u001b[1;32m   1284\u001b[0m \u001b[0;34m\u001b[0m\u001b[0m\n\u001b[1;32m   1285\u001b[0m     def patch(\n",
            "\u001b[0;32m/usr/local/lib/python3.11/dist-packages/openai/_base_client.py\u001b[0m in \u001b[0;36mrequest\u001b[0;34m(self, cast_to, options, remaining_retries, stream, stream_cls)\u001b[0m\n\u001b[1;32m    958\u001b[0m             \u001b[0mretries_taken\u001b[0m \u001b[0;34m=\u001b[0m \u001b[0;36m0\u001b[0m\u001b[0;34m\u001b[0m\u001b[0;34m\u001b[0m\u001b[0m\n\u001b[1;32m    959\u001b[0m \u001b[0;34m\u001b[0m\u001b[0m\n\u001b[0;32m--> 960\u001b[0;31m         return self._request(\n\u001b[0m\u001b[1;32m    961\u001b[0m             \u001b[0mcast_to\u001b[0m\u001b[0;34m=\u001b[0m\u001b[0mcast_to\u001b[0m\u001b[0;34m,\u001b[0m\u001b[0;34m\u001b[0m\u001b[0;34m\u001b[0m\u001b[0m\n\u001b[1;32m    962\u001b[0m             \u001b[0moptions\u001b[0m\u001b[0;34m=\u001b[0m\u001b[0moptions\u001b[0m\u001b[0;34m,\u001b[0m\u001b[0;34m\u001b[0m\u001b[0;34m\u001b[0m\u001b[0m\n",
            "\u001b[0;32m/usr/local/lib/python3.11/dist-packages/openai/_base_client.py\u001b[0m in \u001b[0;36m_request\u001b[0;34m(self, cast_to, options, retries_taken, stream, stream_cls)\u001b[0m\n\u001b[1;32m    994\u001b[0m \u001b[0;34m\u001b[0m\u001b[0m\n\u001b[1;32m    995\u001b[0m         \u001b[0;32mtry\u001b[0m\u001b[0;34m:\u001b[0m\u001b[0;34m\u001b[0m\u001b[0;34m\u001b[0m\u001b[0m\n\u001b[0;32m--> 996\u001b[0;31m             response = self._client.send(\n\u001b[0m\u001b[1;32m    997\u001b[0m                 \u001b[0mrequest\u001b[0m\u001b[0;34m,\u001b[0m\u001b[0;34m\u001b[0m\u001b[0;34m\u001b[0m\u001b[0m\n\u001b[1;32m    998\u001b[0m                 \u001b[0mstream\u001b[0m\u001b[0;34m=\u001b[0m\u001b[0mstream\u001b[0m \u001b[0;32mor\u001b[0m \u001b[0mself\u001b[0m\u001b[0;34m.\u001b[0m\u001b[0m_should_stream_response_body\u001b[0m\u001b[0;34m(\u001b[0m\u001b[0mrequest\u001b[0m\u001b[0;34m=\u001b[0m\u001b[0mrequest\u001b[0m\u001b[0;34m)\u001b[0m\u001b[0;34m,\u001b[0m\u001b[0;34m\u001b[0m\u001b[0;34m\u001b[0m\u001b[0m\n",
            "\u001b[0;32m/usr/local/lib/python3.11/dist-packages/httpx/_client.py\u001b[0m in \u001b[0;36msend\u001b[0;34m(self, request, stream, auth, follow_redirects)\u001b[0m\n\u001b[1;32m    912\u001b[0m         \u001b[0mauth\u001b[0m \u001b[0;34m=\u001b[0m \u001b[0mself\u001b[0m\u001b[0;34m.\u001b[0m\u001b[0m_build_request_auth\u001b[0m\u001b[0;34m(\u001b[0m\u001b[0mrequest\u001b[0m\u001b[0;34m,\u001b[0m \u001b[0mauth\u001b[0m\u001b[0;34m)\u001b[0m\u001b[0;34m\u001b[0m\u001b[0;34m\u001b[0m\u001b[0m\n\u001b[1;32m    913\u001b[0m \u001b[0;34m\u001b[0m\u001b[0m\n\u001b[0;32m--> 914\u001b[0;31m         response = self._send_handling_auth(\n\u001b[0m\u001b[1;32m    915\u001b[0m             \u001b[0mrequest\u001b[0m\u001b[0;34m,\u001b[0m\u001b[0;34m\u001b[0m\u001b[0;34m\u001b[0m\u001b[0m\n\u001b[1;32m    916\u001b[0m             \u001b[0mauth\u001b[0m\u001b[0;34m=\u001b[0m\u001b[0mauth\u001b[0m\u001b[0;34m,\u001b[0m\u001b[0;34m\u001b[0m\u001b[0;34m\u001b[0m\u001b[0m\n",
            "\u001b[0;32m/usr/local/lib/python3.11/dist-packages/httpx/_client.py\u001b[0m in \u001b[0;36m_send_handling_auth\u001b[0;34m(self, request, auth, follow_redirects, history)\u001b[0m\n\u001b[1;32m    940\u001b[0m \u001b[0;34m\u001b[0m\u001b[0m\n\u001b[1;32m    941\u001b[0m             \u001b[0;32mwhile\u001b[0m \u001b[0;32mTrue\u001b[0m\u001b[0;34m:\u001b[0m\u001b[0;34m\u001b[0m\u001b[0;34m\u001b[0m\u001b[0m\n\u001b[0;32m--> 942\u001b[0;31m                 response = self._send_handling_redirects(\n\u001b[0m\u001b[1;32m    943\u001b[0m                     \u001b[0mrequest\u001b[0m\u001b[0;34m,\u001b[0m\u001b[0;34m\u001b[0m\u001b[0;34m\u001b[0m\u001b[0m\n\u001b[1;32m    944\u001b[0m                     \u001b[0mfollow_redirects\u001b[0m\u001b[0;34m=\u001b[0m\u001b[0mfollow_redirects\u001b[0m\u001b[0;34m,\u001b[0m\u001b[0;34m\u001b[0m\u001b[0;34m\u001b[0m\u001b[0m\n",
            "\u001b[0;32m/usr/local/lib/python3.11/dist-packages/httpx/_client.py\u001b[0m in \u001b[0;36m_send_handling_redirects\u001b[0;34m(self, request, follow_redirects, history)\u001b[0m\n\u001b[1;32m    977\u001b[0m                 \u001b[0mhook\u001b[0m\u001b[0;34m(\u001b[0m\u001b[0mrequest\u001b[0m\u001b[0;34m)\u001b[0m\u001b[0;34m\u001b[0m\u001b[0;34m\u001b[0m\u001b[0m\n\u001b[1;32m    978\u001b[0m \u001b[0;34m\u001b[0m\u001b[0m\n\u001b[0;32m--> 979\u001b[0;31m             \u001b[0mresponse\u001b[0m \u001b[0;34m=\u001b[0m \u001b[0mself\u001b[0m\u001b[0;34m.\u001b[0m\u001b[0m_send_single_request\u001b[0m\u001b[0;34m(\u001b[0m\u001b[0mrequest\u001b[0m\u001b[0;34m)\u001b[0m\u001b[0;34m\u001b[0m\u001b[0;34m\u001b[0m\u001b[0m\n\u001b[0m\u001b[1;32m    980\u001b[0m             \u001b[0;32mtry\u001b[0m\u001b[0;34m:\u001b[0m\u001b[0;34m\u001b[0m\u001b[0;34m\u001b[0m\u001b[0m\n\u001b[1;32m    981\u001b[0m                 \u001b[0;32mfor\u001b[0m \u001b[0mhook\u001b[0m \u001b[0;32min\u001b[0m \u001b[0mself\u001b[0m\u001b[0;34m.\u001b[0m\u001b[0m_event_hooks\u001b[0m\u001b[0;34m[\u001b[0m\u001b[0;34m\"response\"\u001b[0m\u001b[0;34m]\u001b[0m\u001b[0;34m:\u001b[0m\u001b[0;34m\u001b[0m\u001b[0;34m\u001b[0m\u001b[0m\n",
            "\u001b[0;32m/usr/local/lib/python3.11/dist-packages/httpx/_client.py\u001b[0m in \u001b[0;36m_send_single_request\u001b[0;34m(self, request)\u001b[0m\n\u001b[1;32m   1012\u001b[0m \u001b[0;34m\u001b[0m\u001b[0m\n\u001b[1;32m   1013\u001b[0m         \u001b[0;32mwith\u001b[0m \u001b[0mrequest_context\u001b[0m\u001b[0;34m(\u001b[0m\u001b[0mrequest\u001b[0m\u001b[0;34m=\u001b[0m\u001b[0mrequest\u001b[0m\u001b[0;34m)\u001b[0m\u001b[0;34m:\u001b[0m\u001b[0;34m\u001b[0m\u001b[0;34m\u001b[0m\u001b[0m\n\u001b[0;32m-> 1014\u001b[0;31m             \u001b[0mresponse\u001b[0m \u001b[0;34m=\u001b[0m \u001b[0mtransport\u001b[0m\u001b[0;34m.\u001b[0m\u001b[0mhandle_request\u001b[0m\u001b[0;34m(\u001b[0m\u001b[0mrequest\u001b[0m\u001b[0;34m)\u001b[0m\u001b[0;34m\u001b[0m\u001b[0;34m\u001b[0m\u001b[0m\n\u001b[0m\u001b[1;32m   1015\u001b[0m \u001b[0;34m\u001b[0m\u001b[0m\n\u001b[1;32m   1016\u001b[0m         \u001b[0;32massert\u001b[0m \u001b[0misinstance\u001b[0m\u001b[0;34m(\u001b[0m\u001b[0mresponse\u001b[0m\u001b[0;34m.\u001b[0m\u001b[0mstream\u001b[0m\u001b[0;34m,\u001b[0m \u001b[0mSyncByteStream\u001b[0m\u001b[0;34m)\u001b[0m\u001b[0;34m\u001b[0m\u001b[0;34m\u001b[0m\u001b[0m\n",
            "\u001b[0;32m/usr/local/lib/python3.11/dist-packages/httpx/_transports/default.py\u001b[0m in \u001b[0;36mhandle_request\u001b[0;34m(self, request)\u001b[0m\n\u001b[1;32m    248\u001b[0m         )\n\u001b[1;32m    249\u001b[0m         \u001b[0;32mwith\u001b[0m \u001b[0mmap_httpcore_exceptions\u001b[0m\u001b[0;34m(\u001b[0m\u001b[0;34m)\u001b[0m\u001b[0;34m:\u001b[0m\u001b[0;34m\u001b[0m\u001b[0;34m\u001b[0m\u001b[0m\n\u001b[0;32m--> 250\u001b[0;31m             \u001b[0mresp\u001b[0m \u001b[0;34m=\u001b[0m \u001b[0mself\u001b[0m\u001b[0;34m.\u001b[0m\u001b[0m_pool\u001b[0m\u001b[0;34m.\u001b[0m\u001b[0mhandle_request\u001b[0m\u001b[0;34m(\u001b[0m\u001b[0mreq\u001b[0m\u001b[0;34m)\u001b[0m\u001b[0;34m\u001b[0m\u001b[0;34m\u001b[0m\u001b[0m\n\u001b[0m\u001b[1;32m    251\u001b[0m \u001b[0;34m\u001b[0m\u001b[0m\n\u001b[1;32m    252\u001b[0m         \u001b[0;32massert\u001b[0m \u001b[0misinstance\u001b[0m\u001b[0;34m(\u001b[0m\u001b[0mresp\u001b[0m\u001b[0;34m.\u001b[0m\u001b[0mstream\u001b[0m\u001b[0;34m,\u001b[0m \u001b[0mtyping\u001b[0m\u001b[0;34m.\u001b[0m\u001b[0mIterable\u001b[0m\u001b[0;34m)\u001b[0m\u001b[0;34m\u001b[0m\u001b[0;34m\u001b[0m\u001b[0m\n",
            "\u001b[0;32m/usr/local/lib/python3.11/dist-packages/httpcore/_sync/connection_pool.py\u001b[0m in \u001b[0;36mhandle_request\u001b[0;34m(self, request)\u001b[0m\n\u001b[1;32m    254\u001b[0m \u001b[0;34m\u001b[0m\u001b[0m\n\u001b[1;32m    255\u001b[0m             \u001b[0mself\u001b[0m\u001b[0;34m.\u001b[0m\u001b[0m_close_connections\u001b[0m\u001b[0;34m(\u001b[0m\u001b[0mclosing\u001b[0m\u001b[0;34m)\u001b[0m\u001b[0;34m\u001b[0m\u001b[0;34m\u001b[0m\u001b[0m\n\u001b[0;32m--> 256\u001b[0;31m             \u001b[0;32mraise\u001b[0m \u001b[0mexc\u001b[0m \u001b[0;32mfrom\u001b[0m \u001b[0;32mNone\u001b[0m\u001b[0;34m\u001b[0m\u001b[0;34m\u001b[0m\u001b[0m\n\u001b[0m\u001b[1;32m    257\u001b[0m \u001b[0;34m\u001b[0m\u001b[0m\n\u001b[1;32m    258\u001b[0m         \u001b[0;31m# Return the response. Note that in this case we still have to manage\u001b[0m\u001b[0;34m\u001b[0m\u001b[0;34m\u001b[0m\u001b[0m\n",
            "\u001b[0;32m/usr/local/lib/python3.11/dist-packages/httpcore/_sync/connection_pool.py\u001b[0m in \u001b[0;36mhandle_request\u001b[0;34m(self, request)\u001b[0m\n\u001b[1;32m    234\u001b[0m                 \u001b[0;32mtry\u001b[0m\u001b[0;34m:\u001b[0m\u001b[0;34m\u001b[0m\u001b[0;34m\u001b[0m\u001b[0m\n\u001b[1;32m    235\u001b[0m                     \u001b[0;31m# Send the request on the assigned connection.\u001b[0m\u001b[0;34m\u001b[0m\u001b[0;34m\u001b[0m\u001b[0m\n\u001b[0;32m--> 236\u001b[0;31m                     response = connection.handle_request(\n\u001b[0m\u001b[1;32m    237\u001b[0m                         \u001b[0mpool_request\u001b[0m\u001b[0;34m.\u001b[0m\u001b[0mrequest\u001b[0m\u001b[0;34m\u001b[0m\u001b[0;34m\u001b[0m\u001b[0m\n\u001b[1;32m    238\u001b[0m                     )\n",
            "\u001b[0;32m/usr/local/lib/python3.11/dist-packages/httpcore/_sync/connection.py\u001b[0m in \u001b[0;36mhandle_request\u001b[0;34m(self, request)\u001b[0m\n\u001b[1;32m    101\u001b[0m             \u001b[0;32mraise\u001b[0m \u001b[0mexc\u001b[0m\u001b[0;34m\u001b[0m\u001b[0;34m\u001b[0m\u001b[0m\n\u001b[1;32m    102\u001b[0m \u001b[0;34m\u001b[0m\u001b[0m\n\u001b[0;32m--> 103\u001b[0;31m         \u001b[0;32mreturn\u001b[0m \u001b[0mself\u001b[0m\u001b[0;34m.\u001b[0m\u001b[0m_connection\u001b[0m\u001b[0;34m.\u001b[0m\u001b[0mhandle_request\u001b[0m\u001b[0;34m(\u001b[0m\u001b[0mrequest\u001b[0m\u001b[0;34m)\u001b[0m\u001b[0;34m\u001b[0m\u001b[0;34m\u001b[0m\u001b[0m\n\u001b[0m\u001b[1;32m    104\u001b[0m \u001b[0;34m\u001b[0m\u001b[0m\n\u001b[1;32m    105\u001b[0m     \u001b[0;32mdef\u001b[0m \u001b[0m_connect\u001b[0m\u001b[0;34m(\u001b[0m\u001b[0mself\u001b[0m\u001b[0;34m,\u001b[0m \u001b[0mrequest\u001b[0m\u001b[0;34m:\u001b[0m \u001b[0mRequest\u001b[0m\u001b[0;34m)\u001b[0m \u001b[0;34m->\u001b[0m \u001b[0mNetworkStream\u001b[0m\u001b[0;34m:\u001b[0m\u001b[0;34m\u001b[0m\u001b[0;34m\u001b[0m\u001b[0m\n",
            "\u001b[0;32m/usr/local/lib/python3.11/dist-packages/httpcore/_sync/http11.py\u001b[0m in \u001b[0;36mhandle_request\u001b[0;34m(self, request)\u001b[0m\n\u001b[1;32m    134\u001b[0m                 \u001b[0;32mwith\u001b[0m \u001b[0mTrace\u001b[0m\u001b[0;34m(\u001b[0m\u001b[0;34m\"response_closed\"\u001b[0m\u001b[0;34m,\u001b[0m \u001b[0mlogger\u001b[0m\u001b[0;34m,\u001b[0m \u001b[0mrequest\u001b[0m\u001b[0;34m)\u001b[0m \u001b[0;32mas\u001b[0m \u001b[0mtrace\u001b[0m\u001b[0;34m:\u001b[0m\u001b[0;34m\u001b[0m\u001b[0;34m\u001b[0m\u001b[0m\n\u001b[1;32m    135\u001b[0m                     \u001b[0mself\u001b[0m\u001b[0;34m.\u001b[0m\u001b[0m_response_closed\u001b[0m\u001b[0;34m(\u001b[0m\u001b[0;34m)\u001b[0m\u001b[0;34m\u001b[0m\u001b[0;34m\u001b[0m\u001b[0m\n\u001b[0;32m--> 136\u001b[0;31m             \u001b[0;32mraise\u001b[0m \u001b[0mexc\u001b[0m\u001b[0;34m\u001b[0m\u001b[0;34m\u001b[0m\u001b[0m\n\u001b[0m\u001b[1;32m    137\u001b[0m \u001b[0;34m\u001b[0m\u001b[0m\n\u001b[1;32m    138\u001b[0m     \u001b[0;31m# Sending the request...\u001b[0m\u001b[0;34m\u001b[0m\u001b[0;34m\u001b[0m\u001b[0m\n",
            "\u001b[0;32m/usr/local/lib/python3.11/dist-packages/httpcore/_sync/http11.py\u001b[0m in \u001b[0;36mhandle_request\u001b[0;34m(self, request)\u001b[0m\n\u001b[1;32m    104\u001b[0m                     \u001b[0mheaders\u001b[0m\u001b[0;34m,\u001b[0m\u001b[0;34m\u001b[0m\u001b[0;34m\u001b[0m\u001b[0m\n\u001b[1;32m    105\u001b[0m                     \u001b[0mtrailing_data\u001b[0m\u001b[0;34m,\u001b[0m\u001b[0;34m\u001b[0m\u001b[0;34m\u001b[0m\u001b[0m\n\u001b[0;32m--> 106\u001b[0;31m                 ) = self._receive_response_headers(**kwargs)\n\u001b[0m\u001b[1;32m    107\u001b[0m                 trace.return_value = (\n\u001b[1;32m    108\u001b[0m                     \u001b[0mhttp_version\u001b[0m\u001b[0;34m,\u001b[0m\u001b[0;34m\u001b[0m\u001b[0;34m\u001b[0m\u001b[0m\n",
            "\u001b[0;32m/usr/local/lib/python3.11/dist-packages/httpcore/_sync/http11.py\u001b[0m in \u001b[0;36m_receive_response_headers\u001b[0;34m(self, request)\u001b[0m\n\u001b[1;32m    175\u001b[0m \u001b[0;34m\u001b[0m\u001b[0m\n\u001b[1;32m    176\u001b[0m         \u001b[0;32mwhile\u001b[0m \u001b[0;32mTrue\u001b[0m\u001b[0;34m:\u001b[0m\u001b[0;34m\u001b[0m\u001b[0;34m\u001b[0m\u001b[0m\n\u001b[0;32m--> 177\u001b[0;31m             \u001b[0mevent\u001b[0m \u001b[0;34m=\u001b[0m \u001b[0mself\u001b[0m\u001b[0;34m.\u001b[0m\u001b[0m_receive_event\u001b[0m\u001b[0;34m(\u001b[0m\u001b[0mtimeout\u001b[0m\u001b[0;34m=\u001b[0m\u001b[0mtimeout\u001b[0m\u001b[0;34m)\u001b[0m\u001b[0;34m\u001b[0m\u001b[0;34m\u001b[0m\u001b[0m\n\u001b[0m\u001b[1;32m    178\u001b[0m             \u001b[0;32mif\u001b[0m \u001b[0misinstance\u001b[0m\u001b[0;34m(\u001b[0m\u001b[0mevent\u001b[0m\u001b[0;34m,\u001b[0m \u001b[0mh11\u001b[0m\u001b[0;34m.\u001b[0m\u001b[0mResponse\u001b[0m\u001b[0;34m)\u001b[0m\u001b[0;34m:\u001b[0m\u001b[0;34m\u001b[0m\u001b[0;34m\u001b[0m\u001b[0m\n\u001b[1;32m    179\u001b[0m                 \u001b[0;32mbreak\u001b[0m\u001b[0;34m\u001b[0m\u001b[0;34m\u001b[0m\u001b[0m\n",
            "\u001b[0;32m/usr/local/lib/python3.11/dist-packages/httpcore/_sync/http11.py\u001b[0m in \u001b[0;36m_receive_event\u001b[0;34m(self, timeout)\u001b[0m\n\u001b[1;32m    215\u001b[0m \u001b[0;34m\u001b[0m\u001b[0m\n\u001b[1;32m    216\u001b[0m             \u001b[0;32mif\u001b[0m \u001b[0mevent\u001b[0m \u001b[0;32mis\u001b[0m \u001b[0mh11\u001b[0m\u001b[0;34m.\u001b[0m\u001b[0mNEED_DATA\u001b[0m\u001b[0;34m:\u001b[0m\u001b[0;34m\u001b[0m\u001b[0;34m\u001b[0m\u001b[0m\n\u001b[0;32m--> 217\u001b[0;31m                 data = self._network_stream.read(\n\u001b[0m\u001b[1;32m    218\u001b[0m                     \u001b[0mself\u001b[0m\u001b[0;34m.\u001b[0m\u001b[0mREAD_NUM_BYTES\u001b[0m\u001b[0;34m,\u001b[0m \u001b[0mtimeout\u001b[0m\u001b[0;34m=\u001b[0m\u001b[0mtimeout\u001b[0m\u001b[0;34m\u001b[0m\u001b[0;34m\u001b[0m\u001b[0m\n\u001b[1;32m    219\u001b[0m                 )\n",
            "\u001b[0;32m/usr/local/lib/python3.11/dist-packages/httpcore/_backends/sync.py\u001b[0m in \u001b[0;36mread\u001b[0;34m(self, max_bytes, timeout)\u001b[0m\n\u001b[1;32m    126\u001b[0m         \u001b[0;32mwith\u001b[0m \u001b[0mmap_exceptions\u001b[0m\u001b[0;34m(\u001b[0m\u001b[0mexc_map\u001b[0m\u001b[0;34m)\u001b[0m\u001b[0;34m:\u001b[0m\u001b[0;34m\u001b[0m\u001b[0;34m\u001b[0m\u001b[0m\n\u001b[1;32m    127\u001b[0m             \u001b[0mself\u001b[0m\u001b[0;34m.\u001b[0m\u001b[0m_sock\u001b[0m\u001b[0;34m.\u001b[0m\u001b[0msettimeout\u001b[0m\u001b[0;34m(\u001b[0m\u001b[0mtimeout\u001b[0m\u001b[0;34m)\u001b[0m\u001b[0;34m\u001b[0m\u001b[0;34m\u001b[0m\u001b[0m\n\u001b[0;32m--> 128\u001b[0;31m             \u001b[0;32mreturn\u001b[0m \u001b[0mself\u001b[0m\u001b[0;34m.\u001b[0m\u001b[0m_sock\u001b[0m\u001b[0;34m.\u001b[0m\u001b[0mrecv\u001b[0m\u001b[0;34m(\u001b[0m\u001b[0mmax_bytes\u001b[0m\u001b[0;34m)\u001b[0m\u001b[0;34m\u001b[0m\u001b[0;34m\u001b[0m\u001b[0m\n\u001b[0m\u001b[1;32m    129\u001b[0m \u001b[0;34m\u001b[0m\u001b[0m\n\u001b[1;32m    130\u001b[0m     \u001b[0;32mdef\u001b[0m \u001b[0mwrite\u001b[0m\u001b[0;34m(\u001b[0m\u001b[0mself\u001b[0m\u001b[0;34m,\u001b[0m \u001b[0mbuffer\u001b[0m\u001b[0;34m:\u001b[0m \u001b[0mbytes\u001b[0m\u001b[0;34m,\u001b[0m \u001b[0mtimeout\u001b[0m\u001b[0;34m:\u001b[0m \u001b[0mfloat\u001b[0m \u001b[0;34m|\u001b[0m \u001b[0;32mNone\u001b[0m \u001b[0;34m=\u001b[0m \u001b[0;32mNone\u001b[0m\u001b[0;34m)\u001b[0m \u001b[0;34m->\u001b[0m \u001b[0;32mNone\u001b[0m\u001b[0;34m:\u001b[0m\u001b[0;34m\u001b[0m\u001b[0;34m\u001b[0m\u001b[0m\n",
            "\u001b[0;32m/usr/lib/python3.11/ssl.py\u001b[0m in \u001b[0;36mrecv\u001b[0;34m(self, buflen, flags)\u001b[0m\n\u001b[1;32m   1293\u001b[0m                     \u001b[0;34m\"non-zero flags not allowed in calls to recv() on %s\"\u001b[0m \u001b[0;34m%\u001b[0m\u001b[0;34m\u001b[0m\u001b[0;34m\u001b[0m\u001b[0m\n\u001b[1;32m   1294\u001b[0m                     self.__class__)\n\u001b[0;32m-> 1295\u001b[0;31m             \u001b[0;32mreturn\u001b[0m \u001b[0mself\u001b[0m\u001b[0;34m.\u001b[0m\u001b[0mread\u001b[0m\u001b[0;34m(\u001b[0m\u001b[0mbuflen\u001b[0m\u001b[0;34m)\u001b[0m\u001b[0;34m\u001b[0m\u001b[0;34m\u001b[0m\u001b[0m\n\u001b[0m\u001b[1;32m   1296\u001b[0m         \u001b[0;32melse\u001b[0m\u001b[0;34m:\u001b[0m\u001b[0;34m\u001b[0m\u001b[0;34m\u001b[0m\u001b[0m\n\u001b[1;32m   1297\u001b[0m             \u001b[0;32mreturn\u001b[0m \u001b[0msuper\u001b[0m\u001b[0;34m(\u001b[0m\u001b[0;34m)\u001b[0m\u001b[0;34m.\u001b[0m\u001b[0mrecv\u001b[0m\u001b[0;34m(\u001b[0m\u001b[0mbuflen\u001b[0m\u001b[0;34m,\u001b[0m \u001b[0mflags\u001b[0m\u001b[0;34m)\u001b[0m\u001b[0;34m\u001b[0m\u001b[0;34m\u001b[0m\u001b[0m\n",
            "\u001b[0;32m/usr/lib/python3.11/ssl.py\u001b[0m in \u001b[0;36mread\u001b[0;34m(self, len, buffer)\u001b[0m\n\u001b[1;32m   1166\u001b[0m                 \u001b[0;32mreturn\u001b[0m \u001b[0mself\u001b[0m\u001b[0;34m.\u001b[0m\u001b[0m_sslobj\u001b[0m\u001b[0;34m.\u001b[0m\u001b[0mread\u001b[0m\u001b[0;34m(\u001b[0m\u001b[0mlen\u001b[0m\u001b[0;34m,\u001b[0m \u001b[0mbuffer\u001b[0m\u001b[0;34m)\u001b[0m\u001b[0;34m\u001b[0m\u001b[0;34m\u001b[0m\u001b[0m\n\u001b[1;32m   1167\u001b[0m             \u001b[0;32melse\u001b[0m\u001b[0;34m:\u001b[0m\u001b[0;34m\u001b[0m\u001b[0;34m\u001b[0m\u001b[0m\n\u001b[0;32m-> 1168\u001b[0;31m                 \u001b[0;32mreturn\u001b[0m \u001b[0mself\u001b[0m\u001b[0;34m.\u001b[0m\u001b[0m_sslobj\u001b[0m\u001b[0;34m.\u001b[0m\u001b[0mread\u001b[0m\u001b[0;34m(\u001b[0m\u001b[0mlen\u001b[0m\u001b[0;34m)\u001b[0m\u001b[0;34m\u001b[0m\u001b[0;34m\u001b[0m\u001b[0m\n\u001b[0m\u001b[1;32m   1169\u001b[0m         \u001b[0;32mexcept\u001b[0m \u001b[0mSSLError\u001b[0m \u001b[0;32mas\u001b[0m \u001b[0mx\u001b[0m\u001b[0;34m:\u001b[0m\u001b[0;34m\u001b[0m\u001b[0;34m\u001b[0m\u001b[0m\n\u001b[1;32m   1170\u001b[0m             \u001b[0;32mif\u001b[0m \u001b[0mx\u001b[0m\u001b[0;34m.\u001b[0m\u001b[0margs\u001b[0m\u001b[0;34m[\u001b[0m\u001b[0;36m0\u001b[0m\u001b[0;34m]\u001b[0m \u001b[0;34m==\u001b[0m \u001b[0mSSL_ERROR_EOF\u001b[0m \u001b[0;32mand\u001b[0m \u001b[0mself\u001b[0m\u001b[0;34m.\u001b[0m\u001b[0msuppress_ragged_eofs\u001b[0m\u001b[0;34m:\u001b[0m\u001b[0;34m\u001b[0m\u001b[0;34m\u001b[0m\u001b[0m\n",
            "\u001b[0;31mKeyboardInterrupt\u001b[0m: "
          ]
        }
      ],
      "source": [
        "prefixes = {\n",
        "    'pick_and_place': 'put',\n",
        "    'pick_clean_then_place': 'clean',\n",
        "    'pick_heat_then_place': 'heat',\n",
        "    'pick_cool_then_place': 'cool',\n",
        "    'look_at_obj': 'examine',\n",
        "    'pick_two_obj': 'puttwo'\n",
        "}\n",
        "cnts = [0] * 6\n",
        "rs = [0] * 6\n",
        "\n",
        "for _ in range(134):\n",
        "    ob, info = env.reset()\n",
        "    ob = '\\n'.join(ob[0].split('\\n\\n')[1:])\n",
        "    name = '/'.join(info['extra.gamefile'][0].split('/')[-3:-1])\n",
        "    print(name)\n",
        "    for i, (k, v) in enumerate(prefixes.items()):\n",
        "        if name.startswith(k):\n",
        "            prompt = prompt1+prompt3\n",
        "            print(k, v)\n",
        "            r = alfworld_run(prompt, ob=ob)\n",
        "            rs[i] += r\n",
        "            cnts[i] += 1\n",
        "            break\n",
        "    print(_+1, 'r', r, 'rs', rs, 'cnts', cnts, 'sum(rs)/sum(cnts)', sum(rs) / sum(cnts))\n",
        "    print('------------\\n')"
      ]
    },
    {
      "cell_type": "code",
      "execution_count": null,
      "metadata": {
        "id": "Jbbsf_f5USrd"
      },
      "outputs": [],
      "source": []
    }
  ],
  "metadata": {
    "accelerator": "GPU",
    "colab": {
      "gpuType": "T4",
      "provenance": [],
      "authorship_tag": "ABX9TyNvMiiOM59y1wnSwo1/bgnR",
      "include_colab_link": true
    },
    "kernelspec": {
      "display_name": "Python 3",
      "name": "python3"
    },
    "language_info": {
      "name": "python"
    }
  },
  "nbformat": 4,
  "nbformat_minor": 0
}