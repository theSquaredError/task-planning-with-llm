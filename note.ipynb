{
 "cells": [
  {
   "cell_type": "code",
   "execution_count": null,
   "metadata": {},
   "outputs": [],
   "source": [
    "!pip install pandas"
   ]
  },
  {
   "cell_type": "code",
   "execution_count": 16,
   "metadata": {},
   "outputs": [
    {
     "data": {
      "text/plain": [
       "Index(['conversations', 'id'], dtype='object')"
      ]
     },
     "execution_count": 16,
     "metadata": {},
     "output_type": "execute_result"
    }
   ],
   "source": [
    "import pandas as pd\n",
    "\n",
    "# Read a Parquet file\n",
    "df = pd.read_parquet(\"alfworld-00000-of-00001-302ad687bb3817a4.parquet\")\n",
    "\n",
    "\n",
    "# Display a specific row (e.g., first row)\n",
    "df.columns  # Change the index for different rows\n"
   ]
  },
  {
   "cell_type": "code",
   "execution_count": 24,
   "metadata": {},
   "outputs": [
    {
     "data": {
      "text/plain": [
       "array([{'from': 'human', 'loss': None, 'value': 'Interact with a household to solve a task. Imagine you are an intelligent agent in a household environment and your target is to perform actions to complete the task goal. At the beginning of your interactions, you will be given the detailed description of the current environment and your goal to accomplish. For each of your turn, you will be given a list of actions which you can choose one to perform in this turn. You should choose from two actions: \"THOUGHT\" or \"ACTION\". If you choose \"THOUGHT\", you should first think about the current condition and plan for your future actions, and then output your action in this turn. Your output must strictly follow this format:\"THOUGHT: your thoughts.\\n ACTION: your next action\\n\"; If you choose \"ACTION\", you should directly output the action in this turn. Your output must strictly follow this format:\"ACTION: your next action\\n\". After your each turn, the environment will give you immediate feedback based on which you plan your next few steps. if the envrionment output \"Nothing happened\", that means the previous action is invalid and you should try more options.\\n Reminder: \\n1. the action must be chosen from the given available actions. Any actions except provided available actions will be regarded as illegal. \\n2. Think when necessary, try to act directly more in the process.'},\n",
       "       {'from': 'gpt', 'loss': False, 'value': \"OK. I'll follow your instructions and try my best to solve the task.\"},\n",
       "       {'from': 'human', 'loss': None, 'value': 'Here is your task. You are in the middle of a room. Looking quickly around you, you see a cabinet 9, a cabinet 8, a cabinet 7, a cabinet 6, a cabinet 5, a cabinet 4, a cabinet 3, a cabinet 2, a cabinet 1, a coffeemachine 1, a countertop 2, a countertop 1, a drawer 13, a drawer 12, a drawer 11, a drawer 10, a drawer 9, a drawer 8, a drawer 7, a drawer 6, a drawer 5, a drawer 4, a drawer 3, a drawer 2, a drawer 1, a fridge 1, a garbagecan 1, a microwave 1, a sinkbasin 1, a stoveburner 6, a stoveburner 5, a stoveburner 4, a stoveburner 3, a stoveburner 2, a stoveburner 1, and a toaster 1.\\nYour task is to: clean some ladle and put it in cabinet.'},\n",
       "       {'from': 'gpt', 'loss': True, 'value': 'THOUGHT: The task is to clean a ladle and put it in a cabinet. Ladles are often found in drawers or on countertops in a kitchen setting. I think I should first look for the ladle, perhaps in one of the drawers.\\n ACTION: go to drawer 6'},\n",
       "       {'from': 'human', 'loss': None, 'value': 'The drawer 6 is closed.'},\n",
       "       {'from': 'gpt', 'loss': True, 'value': 'ACTION: open drawer 6'},\n",
       "       {'from': 'human', 'loss': None, 'value': 'You open the drawer 6. The drawer 6 is open. In it, you see a saltshaker 1.'},\n",
       "       {'from': 'gpt', 'loss': True, 'value': 'ACTION: go to drawer 7'},\n",
       "       {'from': 'human', 'loss': None, 'value': 'On the drawer 7, you see nothing.'},\n",
       "       {'from': 'gpt', 'loss': True, 'value': 'ACTION: go to countertop 1'},\n",
       "       {'from': 'human', 'loss': None, 'value': 'On the countertop 1, you see a bread 1, a knife 3, a ladle 2, a pan 1, a plate 1, a tomato 1, a window 3, and a window 1.'},\n",
       "       {'from': 'gpt', 'loss': True, 'value': 'ACTION: take ladle 2 from countertop 1'},\n",
       "       {'from': 'human', 'loss': None, 'value': 'You pick up the ladle 2 from the countertop 1.'},\n",
       "       {'from': 'gpt', 'loss': True, 'value': 'ACTION: go to sinkbasin 1'},\n",
       "       {'from': 'human', 'loss': None, 'value': 'On the sinkbasin 1, you see a dishsponge 3, a knife 2, a lettuce 1, and a tomato 2.'},\n",
       "       {'from': 'gpt', 'loss': True, 'value': 'ACTION: clean ladle 2 with sinkbasin 1'},\n",
       "       {'from': 'human', 'loss': None, 'value': 'You clean the ladle 2 using the sinkbasin 1.'},\n",
       "       {'from': 'gpt', 'loss': True, 'value': 'ACTION: go to cabinet 4'},\n",
       "       {'from': 'human', 'loss': None, 'value': 'The cabinet 4 is closed.'},\n",
       "       {'from': 'gpt', 'loss': True, 'value': 'ACTION: open cabinet 4'},\n",
       "       {'from': 'human', 'loss': None, 'value': 'You open the cabinet 4. The cabinet 4 is open. In it, you see a soapbottle 1.'},\n",
       "       {'from': 'gpt', 'loss': True, 'value': 'ACTION: put ladle 2 in/on cabinet 4'}],\n",
       "      dtype=object)"
      ]
     },
     "execution_count": 24,
     "metadata": {},
     "output_type": "execute_result"
    }
   ],
   "source": [
    "df['conversations'][8]"
   ]
  },
  {
   "cell_type": "code",
   "execution_count": 25,
   "metadata": {},
   "outputs": [],
   "source": [
    "df.to_json(\"output.json\", orient=\"records\", lines=True)"
   ]
  },
  {
   "cell_type": "code",
   "execution_count": 4,
   "metadata": {},
   "outputs": [
    {
     "name": "stdout",
     "output_type": "stream",
     "text": [
      "Collecting fastparquet\n",
      "  Downloading fastparquet-2024.11.0-cp39-cp39-macosx_10_9_universal2.whl.metadata (4.2 kB)\n",
      "Requirement already satisfied: pandas>=1.5.0 in /Users/vikas/miniconda3/envs/alfworld/lib/python3.9/site-packages (from fastparquet) (2.2.3)\n",
      "Requirement already satisfied: numpy in /Users/vikas/miniconda3/envs/alfworld/lib/python3.9/site-packages (from fastparquet) (2.0.2)\n",
      "Collecting cramjam>=2.3 (from fastparquet)\n",
      "  Downloading cramjam-2.9.1-cp39-cp39-macosx_10_12_x86_64.whl.metadata (4.9 kB)\n",
      "Requirement already satisfied: fsspec in /Users/vikas/miniconda3/envs/alfworld/lib/python3.9/site-packages (from fastparquet) (2024.12.0)\n",
      "Requirement already satisfied: packaging in /Users/vikas/miniconda3/envs/alfworld/lib/python3.9/site-packages (from fastparquet) (24.2)\n",
      "Requirement already satisfied: python-dateutil>=2.8.2 in /Users/vikas/miniconda3/envs/alfworld/lib/python3.9/site-packages (from pandas>=1.5.0->fastparquet) (2.9.0.post0)\n",
      "Requirement already satisfied: pytz>=2020.1 in /Users/vikas/miniconda3/envs/alfworld/lib/python3.9/site-packages (from pandas>=1.5.0->fastparquet) (2025.1)\n",
      "Requirement already satisfied: tzdata>=2022.7 in /Users/vikas/miniconda3/envs/alfworld/lib/python3.9/site-packages (from pandas>=1.5.0->fastparquet) (2025.1)\n",
      "Requirement already satisfied: six>=1.5 in /Users/vikas/miniconda3/envs/alfworld/lib/python3.9/site-packages (from python-dateutil>=2.8.2->pandas>=1.5.0->fastparquet) (1.17.0)\n",
      "Downloading fastparquet-2024.11.0-cp39-cp39-macosx_10_9_universal2.whl (911 kB)\n",
      "\u001b[2K   \u001b[38;2;114;156;31m━━━━━━━━━━━━━━━━━━━━━━━━━━━━━━━━━━━━━━━━\u001b[0m \u001b[32m911.7/911.7 kB\u001b[0m \u001b[31m14.2 MB/s\u001b[0m eta \u001b[36m0:00:00\u001b[0m\n",
      "\u001b[?25hDownloading cramjam-2.9.1-cp39-cp39-macosx_10_12_x86_64.whl (2.1 MB)\n",
      "\u001b[2K   \u001b[38;2;114;156;31m━━━━━━━━━━━━━━━━━━━━━━━━━━━━━━━━━━━━━━━━\u001b[0m \u001b[32m2.1/2.1 MB\u001b[0m \u001b[31m3.4 MB/s\u001b[0m eta \u001b[36m0:00:00\u001b[0m[31m11.7 MB/s\u001b[0m eta \u001b[36m0:00:01\u001b[0m\n",
      "\u001b[?25hInstalling collected packages: cramjam, fastparquet\n",
      "Successfully installed cramjam-2.9.1 fastparquet-2024.11.0\n"
     ]
    }
   ],
   "source": [
    "!pip install fastparquet"
   ]
  },
  {
   "cell_type": "code",
   "execution_count": null,
   "metadata": {},
   "outputs": [],
   "source": []
  }
 ],
 "metadata": {
  "kernelspec": {
   "display_name": "alfworld",
   "language": "python",
   "name": "python3"
  },
  "language_info": {
   "codemirror_mode": {
    "name": "ipython",
    "version": 3
   },
   "file_extension": ".py",
   "mimetype": "text/x-python",
   "name": "python",
   "nbconvert_exporter": "python",
   "pygments_lexer": "ipython3",
   "version": "3.9.21"
  }
 },
 "nbformat": 4,
 "nbformat_minor": 2
}
